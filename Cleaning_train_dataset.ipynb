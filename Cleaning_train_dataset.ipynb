{
 "cells": [
  {
   "cell_type": "code",
   "execution_count": 25,
   "metadata": {},
   "outputs": [
    {
     "ename": "ModuleNotFoundError",
     "evalue": "No module named 'sklearn'",
     "output_type": "error",
     "traceback": [
      "\u001b[1;31m---------------------------------------------------------------------------\u001b[0m",
      "\u001b[1;31mModuleNotFoundError\u001b[0m                       Traceback (most recent call last)",
      "Cell \u001b[1;32mIn[25], line 2\u001b[0m\n\u001b[0;32m      1\u001b[0m \u001b[38;5;28;01mimport\u001b[39;00m \u001b[38;5;21;01mpandas\u001b[39;00m \u001b[38;5;28;01mas\u001b[39;00m \u001b[38;5;21;01mpd\u001b[39;00m\n\u001b[1;32m----> 2\u001b[0m \u001b[38;5;28;01mfrom\u001b[39;00m \u001b[38;5;21;01msklearn\u001b[39;00m\u001b[38;5;21;01m.\u001b[39;00m\u001b[38;5;21;01mtree\u001b[39;00m \u001b[38;5;28;01mimport\u001b[39;00m DecisionTreeClassifier\n",
      "\u001b[1;31mModuleNotFoundError\u001b[0m: No module named 'sklearn'"
     ]
    }
   ],
   "source": [
    "import pandas as pd\n",
    "from sklearn.tree import DecisionTreeClassifier\n",
    "\n"
   ]
  },
  {
   "cell_type": "code",
   "execution_count": 3,
   "metadata": {},
   "outputs": [
    {
     "data": {
      "text/html": [
       "<div>\n",
       "<style scoped>\n",
       "    .dataframe tbody tr th:only-of-type {\n",
       "        vertical-align: middle;\n",
       "    }\n",
       "\n",
       "    .dataframe tbody tr th {\n",
       "        vertical-align: top;\n",
       "    }\n",
       "\n",
       "    .dataframe thead th {\n",
       "        text-align: right;\n",
       "    }\n",
       "</style>\n",
       "<table border=\"1\" class=\"dataframe\">\n",
       "  <thead>\n",
       "    <tr style=\"text-align: right;\">\n",
       "      <th></th>\n",
       "      <th>Id</th>\n",
       "      <th>OrgId</th>\n",
       "      <th>IncidentId</th>\n",
       "      <th>AlertId</th>\n",
       "      <th>Timestamp</th>\n",
       "      <th>DetectorId</th>\n",
       "      <th>AlertTitle</th>\n",
       "      <th>Category</th>\n",
       "      <th>MitreTechniques</th>\n",
       "      <th>IncidentGrade</th>\n",
       "      <th>...</th>\n",
       "      <th>ResourceType</th>\n",
       "      <th>Roles</th>\n",
       "      <th>OSFamily</th>\n",
       "      <th>OSVersion</th>\n",
       "      <th>AntispamDirection</th>\n",
       "      <th>SuspicionLevel</th>\n",
       "      <th>LastVerdict</th>\n",
       "      <th>CountryCode</th>\n",
       "      <th>State</th>\n",
       "      <th>City</th>\n",
       "    </tr>\n",
       "  </thead>\n",
       "  <tbody>\n",
       "    <tr>\n",
       "      <th>0</th>\n",
       "      <td>180388628218</td>\n",
       "      <td>0</td>\n",
       "      <td>612</td>\n",
       "      <td>123247</td>\n",
       "      <td>2024-06-04T06:05:15.000Z</td>\n",
       "      <td>7</td>\n",
       "      <td>6</td>\n",
       "      <td>InitialAccess</td>\n",
       "      <td>NaN</td>\n",
       "      <td>TruePositive</td>\n",
       "      <td>...</td>\n",
       "      <td>NaN</td>\n",
       "      <td>NaN</td>\n",
       "      <td>5</td>\n",
       "      <td>66</td>\n",
       "      <td>NaN</td>\n",
       "      <td>NaN</td>\n",
       "      <td>NaN</td>\n",
       "      <td>31</td>\n",
       "      <td>6</td>\n",
       "      <td>3</td>\n",
       "    </tr>\n",
       "    <tr>\n",
       "      <th>1</th>\n",
       "      <td>455266534868</td>\n",
       "      <td>88</td>\n",
       "      <td>326</td>\n",
       "      <td>210035</td>\n",
       "      <td>2024-06-14T03:01:25.000Z</td>\n",
       "      <td>58</td>\n",
       "      <td>43</td>\n",
       "      <td>Exfiltration</td>\n",
       "      <td>NaN</td>\n",
       "      <td>FalsePositive</td>\n",
       "      <td>...</td>\n",
       "      <td>NaN</td>\n",
       "      <td>NaN</td>\n",
       "      <td>5</td>\n",
       "      <td>66</td>\n",
       "      <td>NaN</td>\n",
       "      <td>NaN</td>\n",
       "      <td>NaN</td>\n",
       "      <td>242</td>\n",
       "      <td>1445</td>\n",
       "      <td>10630</td>\n",
       "    </tr>\n",
       "    <tr>\n",
       "      <th>2</th>\n",
       "      <td>1056561957389</td>\n",
       "      <td>809</td>\n",
       "      <td>58352</td>\n",
       "      <td>712507</td>\n",
       "      <td>2024-06-13T04:52:55.000Z</td>\n",
       "      <td>423</td>\n",
       "      <td>298</td>\n",
       "      <td>InitialAccess</td>\n",
       "      <td>T1189</td>\n",
       "      <td>FalsePositive</td>\n",
       "      <td>...</td>\n",
       "      <td>NaN</td>\n",
       "      <td>NaN</td>\n",
       "      <td>5</td>\n",
       "      <td>66</td>\n",
       "      <td>NaN</td>\n",
       "      <td>Suspicious</td>\n",
       "      <td>Suspicious</td>\n",
       "      <td>242</td>\n",
       "      <td>1445</td>\n",
       "      <td>10630</td>\n",
       "    </tr>\n",
       "    <tr>\n",
       "      <th>3</th>\n",
       "      <td>1279900258736</td>\n",
       "      <td>92</td>\n",
       "      <td>32992</td>\n",
       "      <td>774301</td>\n",
       "      <td>2024-06-10T16:39:36.000Z</td>\n",
       "      <td>2</td>\n",
       "      <td>2</td>\n",
       "      <td>CommandAndControl</td>\n",
       "      <td>NaN</td>\n",
       "      <td>BenignPositive</td>\n",
       "      <td>...</td>\n",
       "      <td>NaN</td>\n",
       "      <td>NaN</td>\n",
       "      <td>5</td>\n",
       "      <td>66</td>\n",
       "      <td>NaN</td>\n",
       "      <td>Suspicious</td>\n",
       "      <td>Suspicious</td>\n",
       "      <td>242</td>\n",
       "      <td>1445</td>\n",
       "      <td>10630</td>\n",
       "    </tr>\n",
       "    <tr>\n",
       "      <th>4</th>\n",
       "      <td>214748368522</td>\n",
       "      <td>148</td>\n",
       "      <td>4359</td>\n",
       "      <td>188041</td>\n",
       "      <td>2024-06-15T01:08:07.000Z</td>\n",
       "      <td>9</td>\n",
       "      <td>74</td>\n",
       "      <td>Execution</td>\n",
       "      <td>NaN</td>\n",
       "      <td>TruePositive</td>\n",
       "      <td>...</td>\n",
       "      <td>NaN</td>\n",
       "      <td>NaN</td>\n",
       "      <td>5</td>\n",
       "      <td>66</td>\n",
       "      <td>NaN</td>\n",
       "      <td>NaN</td>\n",
       "      <td>NaN</td>\n",
       "      <td>242</td>\n",
       "      <td>1445</td>\n",
       "      <td>10630</td>\n",
       "    </tr>\n",
       "  </tbody>\n",
       "</table>\n",
       "<p>5 rows × 45 columns</p>\n",
       "</div>"
      ],
      "text/plain": [
       "              Id  OrgId  IncidentId  AlertId                 Timestamp  \\\n",
       "0   180388628218      0         612   123247  2024-06-04T06:05:15.000Z   \n",
       "1   455266534868     88         326   210035  2024-06-14T03:01:25.000Z   \n",
       "2  1056561957389    809       58352   712507  2024-06-13T04:52:55.000Z   \n",
       "3  1279900258736     92       32992   774301  2024-06-10T16:39:36.000Z   \n",
       "4   214748368522    148        4359   188041  2024-06-15T01:08:07.000Z   \n",
       "\n",
       "   DetectorId  AlertTitle           Category MitreTechniques   IncidentGrade  \\\n",
       "0           7           6      InitialAccess             NaN    TruePositive   \n",
       "1          58          43       Exfiltration             NaN   FalsePositive   \n",
       "2         423         298      InitialAccess           T1189   FalsePositive   \n",
       "3           2           2  CommandAndControl             NaN  BenignPositive   \n",
       "4           9          74          Execution             NaN    TruePositive   \n",
       "\n",
       "   ... ResourceType Roles OSFamily OSVersion  AntispamDirection  \\\n",
       "0  ...          NaN   NaN        5        66                NaN   \n",
       "1  ...          NaN   NaN        5        66                NaN   \n",
       "2  ...          NaN   NaN        5        66                NaN   \n",
       "3  ...          NaN   NaN        5        66                NaN   \n",
       "4  ...          NaN   NaN        5        66                NaN   \n",
       "\n",
       "   SuspicionLevel  LastVerdict  CountryCode  State   City  \n",
       "0             NaN          NaN           31      6      3  \n",
       "1             NaN          NaN          242   1445  10630  \n",
       "2      Suspicious   Suspicious          242   1445  10630  \n",
       "3      Suspicious   Suspicious          242   1445  10630  \n",
       "4             NaN          NaN          242   1445  10630  \n",
       "\n",
       "[5 rows x 45 columns]"
      ]
     },
     "execution_count": 3,
     "metadata": {},
     "output_type": "execute_result"
    }
   ],
   "source": [
    "df = pd.read_csv(\"C:\\\\Users\\\\Green Gen Tech\\\\Downloads\\\\GUIDE_Train.csv\\\\GUIDE_Train.csv\", nrows = 10000)\n",
    "df.head()"
   ]
  },
  {
   "cell_type": "code",
   "execution_count": 6,
   "metadata": {},
   "outputs": [
    {
     "name": "stdout",
     "output_type": "stream",
     "text": [
      "                 Id  OrgId  IncidentId  AlertId                 Timestamp  \\\n",
      "0      180388628218      0         612   123247  2024-06-04T06:05:15.000Z   \n",
      "1      455266534868     88         326   210035  2024-06-14T03:01:25.000Z   \n",
      "2     1056561957389    809       58352   712507  2024-06-13T04:52:55.000Z   \n",
      "3     1279900258736     92       32992   774301  2024-06-10T16:39:36.000Z   \n",
      "4      214748368522    148        4359   188041  2024-06-15T01:08:07.000Z   \n",
      "...             ...    ...         ...      ...                       ...   \n",
      "9995   687194770257     75      394228   871699  2024-06-11T16:43:21.000Z   \n",
      "9996   730144442453     49       29149    18644  2024-06-07T06:51:11.000Z   \n",
      "9997   154618823286     17       56608   133226  2024-06-07T23:48:32.000Z   \n",
      "9998   120259085306    408      201579  1372581  2024-06-05T18:43:59.000Z   \n",
      "9999   377957124787     40      145697   303534  2024-06-15T12:11:19.000Z   \n",
      "\n",
      "      DetectorId  AlertTitle            Category  MitreTechniques  \\\n",
      "0              7           6       InitialAccess              NaN   \n",
      "1             58          43        Exfiltration              NaN   \n",
      "2            423         298       InitialAccess            T1189   \n",
      "3              2           2   CommandAndControl              NaN   \n",
      "4              9          74           Execution              NaN   \n",
      "...          ...         ...                 ...              ...   \n",
      "9995           0           0       InitialAccess  T1078;T1078.004   \n",
      "9996           1           1       InitialAccess        T1566.002   \n",
      "9997          20       29882        Exfiltration              NaN   \n",
      "9998          81       12372  SuspiciousActivity              NaN   \n",
      "9999          28          19       InitialAccess            T1566   \n",
      "\n",
      "       IncidentGrade  ... ResourceType Roles OSFamily OSVersion  \\\n",
      "0       TruePositive  ...          NaN   NaN        5        66   \n",
      "1      FalsePositive  ...          NaN   NaN        5        66   \n",
      "2      FalsePositive  ...          NaN   NaN        5        66   \n",
      "3     BenignPositive  ...          NaN   NaN        5        66   \n",
      "4       TruePositive  ...          NaN   NaN        5        66   \n",
      "...              ...  ...          ...   ...      ...       ...   \n",
      "9995   FalsePositive  ...          NaN   NaN        5        66   \n",
      "9996    TruePositive  ...          NaN   NaN        5        66   \n",
      "9997   FalsePositive  ...          NaN   NaN        5        66   \n",
      "9998   FalsePositive  ...          NaN   NaN        5        66   \n",
      "9999  BenignPositive  ...          NaN   NaN        5        66   \n",
      "\n",
      "      AntispamDirection  SuspicionLevel  LastVerdict  CountryCode  State  \\\n",
      "0                   NaN             NaN          NaN           31      6   \n",
      "1                   NaN             NaN          NaN          242   1445   \n",
      "2                   NaN      Suspicious   Suspicious          242   1445   \n",
      "3                   NaN      Suspicious   Suspicious          242   1445   \n",
      "4                   NaN             NaN          NaN          242   1445   \n",
      "...                 ...             ...          ...          ...    ...   \n",
      "9995                NaN             NaN          NaN          242   1445   \n",
      "9996                NaN             NaN          NaN          242   1445   \n",
      "9997                NaN             NaN          NaN          242   1445   \n",
      "9998                NaN             NaN          NaN          242   1445   \n",
      "9999                NaN             NaN    Malicious          242   1445   \n",
      "\n",
      "       City  \n",
      "0         3  \n",
      "1     10630  \n",
      "2     10630  \n",
      "3     10630  \n",
      "4     10630  \n",
      "...     ...  \n",
      "9995  10630  \n",
      "9996  10630  \n",
      "9997  10630  \n",
      "9998  10630  \n",
      "9999  10630  \n",
      "\n",
      "[10000 rows x 45 columns]\n"
     ]
    }
   ],
   "source": [
    "print(df)"
   ]
  },
  {
   "cell_type": "code",
   "execution_count": 7,
   "metadata": {},
   "outputs": [
    {
     "name": "stdout",
     "output_type": "stream",
     "text": [
      "['Id', 'OrgId', 'IncidentId', 'AlertId', 'Timestamp', 'DetectorId', 'AlertTitle', 'Category', 'MitreTechniques', 'IncidentGrade', 'ActionGrouped', 'ActionGranular', 'EntityType', 'EvidenceRole', 'DeviceId', 'Sha256', 'IpAddress', 'Url', 'AccountSid', 'AccountUpn']\n",
      "['AccountObjectId', 'AccountName', 'DeviceName', 'NetworkMessageId', 'EmailClusterId', 'RegistryKey', 'RegistryValueName', 'RegistryValueData', 'ApplicationId', 'ApplicationName', 'OAuthApplicationId', 'ThreatFamily', 'FileName', 'FolderPath', 'ResourceIdName', 'ResourceType', 'Roles', 'OSFamily', 'OSVersion', 'AntispamDirection']\n",
      "['SuspicionLevel', 'LastVerdict', 'CountryCode', 'State', 'City']\n"
     ]
    }
   ],
   "source": [
    "column_names = df.columns.tolist()\n",
    "print(column_names[:20])\n",
    "print(column_names[20:40])\n",
    "print(column_names[40:60])"
   ]
  },
  {
   "cell_type": "code",
   "execution_count": 10,
   "metadata": {},
   "outputs": [
    {
     "data": {
      "text/plain": [
       "['MitreTechniques',\n",
       " 'ActionGrouped',\n",
       " 'ActionGranular',\n",
       " 'EmailClusterId',\n",
       " 'ThreatFamily',\n",
       " 'ResourceType',\n",
       " 'Roles',\n",
       " 'AntispamDirection',\n",
       " 'SuspicionLevel',\n",
       " 'LastVerdict']"
      ]
     },
     "execution_count": 10,
     "metadata": {},
     "output_type": "execute_result"
    }
   ],
   "source": [
    "#checking columns which has 60% of null values\n",
    "null_percentage = df.isnull().mean()*100\n",
    "unwanted_columns = null_percentage[null_percentage > 50].index.tolist()\n",
    "unwanted_columns"
   ]
  },
  {
   "cell_type": "code",
   "execution_count": 12,
   "metadata": {},
   "outputs": [
    {
     "data": {
      "text/plain": [
       "[]"
      ]
     },
     "execution_count": 12,
     "metadata": {},
     "output_type": "execute_result"
    }
   ],
   "source": [
    "duplicate_columns = df.T[df.T.duplicated()].index.tolist()\n",
    "duplicate_columns"
   ]
  },
  {
   "cell_type": "code",
   "execution_count": 4,
   "metadata": {},
   "outputs": [
    {
     "ename": "MemoryError",
     "evalue": "Unable to allocate 218. MiB for an array with shape (3, 9516837) and data type object",
     "output_type": "error",
     "traceback": [
      "\u001b[1;31m---------------------------------------------------------------------------\u001b[0m",
      "\u001b[1;31mMemoryError\u001b[0m                               Traceback (most recent call last)",
      "Cell \u001b[1;32mIn[4], line 1\u001b[0m\n\u001b[1;32m----> 1\u001b[0m df \u001b[38;5;241m=\u001b[39m \u001b[43mpd\u001b[49m\u001b[38;5;241;43m.\u001b[39;49m\u001b[43mread_csv\u001b[49m\u001b[43m(\u001b[49m\u001b[38;5;124;43m\"\u001b[39;49m\u001b[38;5;124;43mC:\u001b[39;49m\u001b[38;5;130;43;01m\\\\\u001b[39;49;00m\u001b[38;5;124;43mUsers\u001b[39;49m\u001b[38;5;130;43;01m\\\\\u001b[39;49;00m\u001b[38;5;124;43mGreen Gen Tech\u001b[39;49m\u001b[38;5;130;43;01m\\\\\u001b[39;49;00m\u001b[38;5;124;43mDownloads\u001b[39;49m\u001b[38;5;130;43;01m\\\\\u001b[39;49;00m\u001b[38;5;124;43mGUIDE_Train.csv\u001b[39;49m\u001b[38;5;130;43;01m\\\\\u001b[39;49;00m\u001b[38;5;124;43mGUIDE_Train.csv\u001b[39;49m\u001b[38;5;124;43m\"\u001b[39;49m\u001b[43m)\u001b[49m\n\u001b[0;32m      2\u001b[0m df\u001b[38;5;241m.\u001b[39mshape\n",
      "File \u001b[1;32mc:\\Users\\Green Gen Tech\\Desktop\\Microsoft\\microsoft_venv\\Lib\\site-packages\\pandas\\io\\parsers\\readers.py:1026\u001b[0m, in \u001b[0;36mread_csv\u001b[1;34m(filepath_or_buffer, sep, delimiter, header, names, index_col, usecols, dtype, engine, converters, true_values, false_values, skipinitialspace, skiprows, skipfooter, nrows, na_values, keep_default_na, na_filter, verbose, skip_blank_lines, parse_dates, infer_datetime_format, keep_date_col, date_parser, date_format, dayfirst, cache_dates, iterator, chunksize, compression, thousands, decimal, lineterminator, quotechar, quoting, doublequote, escapechar, comment, encoding, encoding_errors, dialect, on_bad_lines, delim_whitespace, low_memory, memory_map, float_precision, storage_options, dtype_backend)\u001b[0m\n\u001b[0;32m   1013\u001b[0m kwds_defaults \u001b[38;5;241m=\u001b[39m _refine_defaults_read(\n\u001b[0;32m   1014\u001b[0m     dialect,\n\u001b[0;32m   1015\u001b[0m     delimiter,\n\u001b[1;32m   (...)\u001b[0m\n\u001b[0;32m   1022\u001b[0m     dtype_backend\u001b[38;5;241m=\u001b[39mdtype_backend,\n\u001b[0;32m   1023\u001b[0m )\n\u001b[0;32m   1024\u001b[0m kwds\u001b[38;5;241m.\u001b[39mupdate(kwds_defaults)\n\u001b[1;32m-> 1026\u001b[0m \u001b[38;5;28;01mreturn\u001b[39;00m \u001b[43m_read\u001b[49m\u001b[43m(\u001b[49m\u001b[43mfilepath_or_buffer\u001b[49m\u001b[43m,\u001b[49m\u001b[43m \u001b[49m\u001b[43mkwds\u001b[49m\u001b[43m)\u001b[49m\n",
      "File \u001b[1;32mc:\\Users\\Green Gen Tech\\Desktop\\Microsoft\\microsoft_venv\\Lib\\site-packages\\pandas\\io\\parsers\\readers.py:626\u001b[0m, in \u001b[0;36m_read\u001b[1;34m(filepath_or_buffer, kwds)\u001b[0m\n\u001b[0;32m    623\u001b[0m     \u001b[38;5;28;01mreturn\u001b[39;00m parser\n\u001b[0;32m    625\u001b[0m \u001b[38;5;28;01mwith\u001b[39;00m parser:\n\u001b[1;32m--> 626\u001b[0m     \u001b[38;5;28;01mreturn\u001b[39;00m \u001b[43mparser\u001b[49m\u001b[38;5;241;43m.\u001b[39;49m\u001b[43mread\u001b[49m\u001b[43m(\u001b[49m\u001b[43mnrows\u001b[49m\u001b[43m)\u001b[49m\n",
      "File \u001b[1;32mc:\\Users\\Green Gen Tech\\Desktop\\Microsoft\\microsoft_venv\\Lib\\site-packages\\pandas\\io\\parsers\\readers.py:1968\u001b[0m, in \u001b[0;36mTextFileReader.read\u001b[1;34m(self, nrows)\u001b[0m\n\u001b[0;32m   1965\u001b[0m     \u001b[38;5;28;01melse\u001b[39;00m:\n\u001b[0;32m   1966\u001b[0m         new_col_dict \u001b[38;5;241m=\u001b[39m col_dict\n\u001b[1;32m-> 1968\u001b[0m     df \u001b[38;5;241m=\u001b[39m \u001b[43mDataFrame\u001b[49m\u001b[43m(\u001b[49m\n\u001b[0;32m   1969\u001b[0m \u001b[43m        \u001b[49m\u001b[43mnew_col_dict\u001b[49m\u001b[43m,\u001b[49m\n\u001b[0;32m   1970\u001b[0m \u001b[43m        \u001b[49m\u001b[43mcolumns\u001b[49m\u001b[38;5;241;43m=\u001b[39;49m\u001b[43mcolumns\u001b[49m\u001b[43m,\u001b[49m\n\u001b[0;32m   1971\u001b[0m \u001b[43m        \u001b[49m\u001b[43mindex\u001b[49m\u001b[38;5;241;43m=\u001b[39;49m\u001b[43mindex\u001b[49m\u001b[43m,\u001b[49m\n\u001b[0;32m   1972\u001b[0m \u001b[43m        \u001b[49m\u001b[43mcopy\u001b[49m\u001b[38;5;241;43m=\u001b[39;49m\u001b[38;5;129;43;01mnot\u001b[39;49;00m\u001b[43m \u001b[49m\u001b[43musing_copy_on_write\u001b[49m\u001b[43m(\u001b[49m\u001b[43m)\u001b[49m\u001b[43m,\u001b[49m\n\u001b[0;32m   1973\u001b[0m \u001b[43m    \u001b[49m\u001b[43m)\u001b[49m\n\u001b[0;32m   1975\u001b[0m     \u001b[38;5;28mself\u001b[39m\u001b[38;5;241m.\u001b[39m_currow \u001b[38;5;241m+\u001b[39m\u001b[38;5;241m=\u001b[39m new_rows\n\u001b[0;32m   1976\u001b[0m \u001b[38;5;28;01mreturn\u001b[39;00m df\n",
      "File \u001b[1;32mc:\\Users\\Green Gen Tech\\Desktop\\Microsoft\\microsoft_venv\\Lib\\site-packages\\pandas\\core\\frame.py:778\u001b[0m, in \u001b[0;36mDataFrame.__init__\u001b[1;34m(self, data, index, columns, dtype, copy)\u001b[0m\n\u001b[0;32m    772\u001b[0m     mgr \u001b[38;5;241m=\u001b[39m \u001b[38;5;28mself\u001b[39m\u001b[38;5;241m.\u001b[39m_init_mgr(\n\u001b[0;32m    773\u001b[0m         data, axes\u001b[38;5;241m=\u001b[39m{\u001b[38;5;124m\"\u001b[39m\u001b[38;5;124mindex\u001b[39m\u001b[38;5;124m\"\u001b[39m: index, \u001b[38;5;124m\"\u001b[39m\u001b[38;5;124mcolumns\u001b[39m\u001b[38;5;124m\"\u001b[39m: columns}, dtype\u001b[38;5;241m=\u001b[39mdtype, copy\u001b[38;5;241m=\u001b[39mcopy\n\u001b[0;32m    774\u001b[0m     )\n\u001b[0;32m    776\u001b[0m \u001b[38;5;28;01melif\u001b[39;00m \u001b[38;5;28misinstance\u001b[39m(data, \u001b[38;5;28mdict\u001b[39m):\n\u001b[0;32m    777\u001b[0m     \u001b[38;5;66;03m# GH#38939 de facto copy defaults to False only in non-dict cases\u001b[39;00m\n\u001b[1;32m--> 778\u001b[0m     mgr \u001b[38;5;241m=\u001b[39m \u001b[43mdict_to_mgr\u001b[49m\u001b[43m(\u001b[49m\u001b[43mdata\u001b[49m\u001b[43m,\u001b[49m\u001b[43m \u001b[49m\u001b[43mindex\u001b[49m\u001b[43m,\u001b[49m\u001b[43m \u001b[49m\u001b[43mcolumns\u001b[49m\u001b[43m,\u001b[49m\u001b[43m \u001b[49m\u001b[43mdtype\u001b[49m\u001b[38;5;241;43m=\u001b[39;49m\u001b[43mdtype\u001b[49m\u001b[43m,\u001b[49m\u001b[43m \u001b[49m\u001b[43mcopy\u001b[49m\u001b[38;5;241;43m=\u001b[39;49m\u001b[43mcopy\u001b[49m\u001b[43m,\u001b[49m\u001b[43m \u001b[49m\u001b[43mtyp\u001b[49m\u001b[38;5;241;43m=\u001b[39;49m\u001b[43mmanager\u001b[49m\u001b[43m)\u001b[49m\n\u001b[0;32m    779\u001b[0m \u001b[38;5;28;01melif\u001b[39;00m \u001b[38;5;28misinstance\u001b[39m(data, ma\u001b[38;5;241m.\u001b[39mMaskedArray):\n\u001b[0;32m    780\u001b[0m     \u001b[38;5;28;01mfrom\u001b[39;00m \u001b[38;5;21;01mnumpy\u001b[39;00m\u001b[38;5;21;01m.\u001b[39;00m\u001b[38;5;21;01mma\u001b[39;00m \u001b[38;5;28;01mimport\u001b[39;00m mrecords\n",
      "File \u001b[1;32mc:\\Users\\Green Gen Tech\\Desktop\\Microsoft\\microsoft_venv\\Lib\\site-packages\\pandas\\core\\internals\\construction.py:503\u001b[0m, in \u001b[0;36mdict_to_mgr\u001b[1;34m(data, index, columns, dtype, typ, copy)\u001b[0m\n\u001b[0;32m    499\u001b[0m     \u001b[38;5;28;01melse\u001b[39;00m:\n\u001b[0;32m    500\u001b[0m         \u001b[38;5;66;03m# dtype check to exclude e.g. range objects, scalars\u001b[39;00m\n\u001b[0;32m    501\u001b[0m         arrays \u001b[38;5;241m=\u001b[39m [x\u001b[38;5;241m.\u001b[39mcopy() \u001b[38;5;28;01mif\u001b[39;00m \u001b[38;5;28mhasattr\u001b[39m(x, \u001b[38;5;124m\"\u001b[39m\u001b[38;5;124mdtype\u001b[39m\u001b[38;5;124m\"\u001b[39m) \u001b[38;5;28;01melse\u001b[39;00m x \u001b[38;5;28;01mfor\u001b[39;00m x \u001b[38;5;129;01min\u001b[39;00m arrays]\n\u001b[1;32m--> 503\u001b[0m \u001b[38;5;28;01mreturn\u001b[39;00m \u001b[43marrays_to_mgr\u001b[49m\u001b[43m(\u001b[49m\u001b[43marrays\u001b[49m\u001b[43m,\u001b[49m\u001b[43m \u001b[49m\u001b[43mcolumns\u001b[49m\u001b[43m,\u001b[49m\u001b[43m \u001b[49m\u001b[43mindex\u001b[49m\u001b[43m,\u001b[49m\u001b[43m \u001b[49m\u001b[43mdtype\u001b[49m\u001b[38;5;241;43m=\u001b[39;49m\u001b[43mdtype\u001b[49m\u001b[43m,\u001b[49m\u001b[43m \u001b[49m\u001b[43mtyp\u001b[49m\u001b[38;5;241;43m=\u001b[39;49m\u001b[43mtyp\u001b[49m\u001b[43m,\u001b[49m\u001b[43m \u001b[49m\u001b[43mconsolidate\u001b[49m\u001b[38;5;241;43m=\u001b[39;49m\u001b[43mcopy\u001b[49m\u001b[43m)\u001b[49m\n",
      "File \u001b[1;32mc:\\Users\\Green Gen Tech\\Desktop\\Microsoft\\microsoft_venv\\Lib\\site-packages\\pandas\\core\\internals\\construction.py:152\u001b[0m, in \u001b[0;36marrays_to_mgr\u001b[1;34m(arrays, columns, index, dtype, verify_integrity, typ, consolidate)\u001b[0m\n\u001b[0;32m    149\u001b[0m axes \u001b[38;5;241m=\u001b[39m [columns, index]\n\u001b[0;32m    151\u001b[0m \u001b[38;5;28;01mif\u001b[39;00m typ \u001b[38;5;241m==\u001b[39m \u001b[38;5;124m\"\u001b[39m\u001b[38;5;124mblock\u001b[39m\u001b[38;5;124m\"\u001b[39m:\n\u001b[1;32m--> 152\u001b[0m     \u001b[38;5;28;01mreturn\u001b[39;00m \u001b[43mcreate_block_manager_from_column_arrays\u001b[49m\u001b[43m(\u001b[49m\n\u001b[0;32m    153\u001b[0m \u001b[43m        \u001b[49m\u001b[43marrays\u001b[49m\u001b[43m,\u001b[49m\u001b[43m \u001b[49m\u001b[43maxes\u001b[49m\u001b[43m,\u001b[49m\u001b[43m \u001b[49m\u001b[43mconsolidate\u001b[49m\u001b[38;5;241;43m=\u001b[39;49m\u001b[43mconsolidate\u001b[49m\u001b[43m,\u001b[49m\u001b[43m \u001b[49m\u001b[43mrefs\u001b[49m\u001b[38;5;241;43m=\u001b[39;49m\u001b[43mrefs\u001b[49m\n\u001b[0;32m    154\u001b[0m \u001b[43m    \u001b[49m\u001b[43m)\u001b[49m\n\u001b[0;32m    155\u001b[0m \u001b[38;5;28;01melif\u001b[39;00m typ \u001b[38;5;241m==\u001b[39m \u001b[38;5;124m\"\u001b[39m\u001b[38;5;124marray\u001b[39m\u001b[38;5;124m\"\u001b[39m:\n\u001b[0;32m    156\u001b[0m     \u001b[38;5;28;01mreturn\u001b[39;00m ArrayManager(arrays, [index, columns])\n",
      "File \u001b[1;32mc:\\Users\\Green Gen Tech\\Desktop\\Microsoft\\microsoft_venv\\Lib\\site-packages\\pandas\\core\\internals\\managers.py:2139\u001b[0m, in \u001b[0;36mcreate_block_manager_from_column_arrays\u001b[1;34m(arrays, axes, consolidate, refs)\u001b[0m\n\u001b[0;32m   2121\u001b[0m \u001b[38;5;28;01mdef\u001b[39;00m \u001b[38;5;21mcreate_block_manager_from_column_arrays\u001b[39m(\n\u001b[0;32m   2122\u001b[0m     arrays: \u001b[38;5;28mlist\u001b[39m[ArrayLike],\n\u001b[0;32m   2123\u001b[0m     axes: \u001b[38;5;28mlist\u001b[39m[Index],\n\u001b[1;32m   (...)\u001b[0m\n\u001b[0;32m   2135\u001b[0m     \u001b[38;5;66;03m# These last three are sufficient to allow us to safely pass\u001b[39;00m\n\u001b[0;32m   2136\u001b[0m     \u001b[38;5;66;03m#  verify_integrity=False below.\u001b[39;00m\n\u001b[0;32m   2138\u001b[0m     \u001b[38;5;28;01mtry\u001b[39;00m:\n\u001b[1;32m-> 2139\u001b[0m         blocks \u001b[38;5;241m=\u001b[39m \u001b[43m_form_blocks\u001b[49m\u001b[43m(\u001b[49m\u001b[43marrays\u001b[49m\u001b[43m,\u001b[49m\u001b[43m \u001b[49m\u001b[43mconsolidate\u001b[49m\u001b[43m,\u001b[49m\u001b[43m \u001b[49m\u001b[43mrefs\u001b[49m\u001b[43m)\u001b[49m\n\u001b[0;32m   2140\u001b[0m         mgr \u001b[38;5;241m=\u001b[39m BlockManager(blocks, axes, verify_integrity\u001b[38;5;241m=\u001b[39m\u001b[38;5;28;01mFalse\u001b[39;00m)\n\u001b[0;32m   2141\u001b[0m     \u001b[38;5;28;01mexcept\u001b[39;00m \u001b[38;5;167;01mValueError\u001b[39;00m \u001b[38;5;28;01mas\u001b[39;00m e:\n",
      "File \u001b[1;32mc:\\Users\\Green Gen Tech\\Desktop\\Microsoft\\microsoft_venv\\Lib\\site-packages\\pandas\\core\\internals\\managers.py:2212\u001b[0m, in \u001b[0;36m_form_blocks\u001b[1;34m(arrays, consolidate, refs)\u001b[0m\n\u001b[0;32m   2209\u001b[0m \u001b[38;5;28;01mif\u001b[39;00m \u001b[38;5;28missubclass\u001b[39m(dtype\u001b[38;5;241m.\u001b[39mtype, (\u001b[38;5;28mstr\u001b[39m, \u001b[38;5;28mbytes\u001b[39m)):\n\u001b[0;32m   2210\u001b[0m     dtype \u001b[38;5;241m=\u001b[39m np\u001b[38;5;241m.\u001b[39mdtype(\u001b[38;5;28mobject\u001b[39m)\n\u001b[1;32m-> 2212\u001b[0m values, placement \u001b[38;5;241m=\u001b[39m \u001b[43m_stack_arrays\u001b[49m\u001b[43m(\u001b[49m\u001b[38;5;28;43mlist\u001b[39;49m\u001b[43m(\u001b[49m\u001b[43mtup_block\u001b[49m\u001b[43m)\u001b[49m\u001b[43m,\u001b[49m\u001b[43m \u001b[49m\u001b[43mdtype\u001b[49m\u001b[43m)\u001b[49m\n\u001b[0;32m   2213\u001b[0m \u001b[38;5;28;01mif\u001b[39;00m is_dtlike:\n\u001b[0;32m   2214\u001b[0m     values \u001b[38;5;241m=\u001b[39m ensure_wrapped_if_datetimelike(values)\n",
      "File \u001b[1;32mc:\\Users\\Green Gen Tech\\Desktop\\Microsoft\\microsoft_venv\\Lib\\site-packages\\pandas\\core\\internals\\managers.py:2252\u001b[0m, in \u001b[0;36m_stack_arrays\u001b[1;34m(tuples, dtype)\u001b[0m\n\u001b[0;32m   2249\u001b[0m first \u001b[38;5;241m=\u001b[39m arrays[\u001b[38;5;241m0\u001b[39m]\n\u001b[0;32m   2250\u001b[0m shape \u001b[38;5;241m=\u001b[39m (\u001b[38;5;28mlen\u001b[39m(arrays),) \u001b[38;5;241m+\u001b[39m first\u001b[38;5;241m.\u001b[39mshape\n\u001b[1;32m-> 2252\u001b[0m stacked \u001b[38;5;241m=\u001b[39m \u001b[43mnp\u001b[49m\u001b[38;5;241;43m.\u001b[39;49m\u001b[43mempty\u001b[49m\u001b[43m(\u001b[49m\u001b[43mshape\u001b[49m\u001b[43m,\u001b[49m\u001b[43m \u001b[49m\u001b[43mdtype\u001b[49m\u001b[38;5;241;43m=\u001b[39;49m\u001b[43mdtype\u001b[49m\u001b[43m)\u001b[49m\n\u001b[0;32m   2253\u001b[0m \u001b[38;5;28;01mfor\u001b[39;00m i, arr \u001b[38;5;129;01min\u001b[39;00m \u001b[38;5;28menumerate\u001b[39m(arrays):\n\u001b[0;32m   2254\u001b[0m     stacked[i] \u001b[38;5;241m=\u001b[39m arr\n",
      "\u001b[1;31mMemoryError\u001b[0m: Unable to allocate 218. MiB for an array with shape (3, 9516837) and data type object"
     ]
    }
   ],
   "source": [
    "df = pd.read_csv(\"C:\\\\Users\\\\Green Gen Tech\\\\Downloads\\\\GUIDE_Train.csv\\\\GUIDE_Train.csv\")\n",
    "df.shape"
   ]
  },
  {
   "cell_type": "code",
   "execution_count": 2,
   "metadata": {},
   "outputs": [
    {
     "name": "stderr",
     "output_type": "stream",
     "text": [
      "C:\\Users\\Green Gen Tech\\AppData\\Local\\Temp\\ipykernel_11084\\668853785.py:4: DtypeWarning: Columns (35) have mixed types. Specify dtype option on import or set low_memory=False.\n",
      "  for chunk in pd.read_csv(\"C:\\\\Users\\\\Green Gen Tech\\\\Downloads\\\\GUIDE_Train.csv\\\\GUIDE_Train.csv\", chunksize=chunksize):\n",
      "C:\\Users\\Green Gen Tech\\AppData\\Local\\Temp\\ipykernel_11084\\668853785.py:4: DtypeWarning: Columns (35) have mixed types. Specify dtype option on import or set low_memory=False.\n",
      "  for chunk in pd.read_csv(\"C:\\\\Users\\\\Green Gen Tech\\\\Downloads\\\\GUIDE_Train.csv\\\\GUIDE_Train.csv\", chunksize=chunksize):\n",
      "C:\\Users\\Green Gen Tech\\AppData\\Local\\Temp\\ipykernel_11084\\668853785.py:4: DtypeWarning: Columns (35) have mixed types. Specify dtype option on import or set low_memory=False.\n",
      "  for chunk in pd.read_csv(\"C:\\\\Users\\\\Green Gen Tech\\\\Downloads\\\\GUIDE_Train.csv\\\\GUIDE_Train.csv\", chunksize=chunksize):\n",
      "C:\\Users\\Green Gen Tech\\AppData\\Local\\Temp\\ipykernel_11084\\668853785.py:4: DtypeWarning: Columns (35) have mixed types. Specify dtype option on import or set low_memory=False.\n",
      "  for chunk in pd.read_csv(\"C:\\\\Users\\\\Green Gen Tech\\\\Downloads\\\\GUIDE_Train.csv\\\\GUIDE_Train.csv\", chunksize=chunksize):\n",
      "C:\\Users\\Green Gen Tech\\AppData\\Local\\Temp\\ipykernel_11084\\668853785.py:4: DtypeWarning: Columns (35) have mixed types. Specify dtype option on import or set low_memory=False.\n",
      "  for chunk in pd.read_csv(\"C:\\\\Users\\\\Green Gen Tech\\\\Downloads\\\\GUIDE_Train.csv\\\\GUIDE_Train.csv\", chunksize=chunksize):\n",
      "C:\\Users\\Green Gen Tech\\AppData\\Local\\Temp\\ipykernel_11084\\668853785.py:4: DtypeWarning: Columns (35) have mixed types. Specify dtype option on import or set low_memory=False.\n",
      "  for chunk in pd.read_csv(\"C:\\\\Users\\\\Green Gen Tech\\\\Downloads\\\\GUIDE_Train.csv\\\\GUIDE_Train.csv\", chunksize=chunksize):\n",
      "C:\\Users\\Green Gen Tech\\AppData\\Local\\Temp\\ipykernel_11084\\668853785.py:4: DtypeWarning: Columns (35) have mixed types. Specify dtype option on import or set low_memory=False.\n",
      "  for chunk in pd.read_csv(\"C:\\\\Users\\\\Green Gen Tech\\\\Downloads\\\\GUIDE_Train.csv\\\\GUIDE_Train.csv\", chunksize=chunksize):\n",
      "C:\\Users\\Green Gen Tech\\AppData\\Local\\Temp\\ipykernel_11084\\668853785.py:4: DtypeWarning: Columns (35) have mixed types. Specify dtype option on import or set low_memory=False.\n",
      "  for chunk in pd.read_csv(\"C:\\\\Users\\\\Green Gen Tech\\\\Downloads\\\\GUIDE_Train.csv\\\\GUIDE_Train.csv\", chunksize=chunksize):\n",
      "C:\\Users\\Green Gen Tech\\AppData\\Local\\Temp\\ipykernel_11084\\668853785.py:4: DtypeWarning: Columns (35) have mixed types. Specify dtype option on import or set low_memory=False.\n",
      "  for chunk in pd.read_csv(\"C:\\\\Users\\\\Green Gen Tech\\\\Downloads\\\\GUIDE_Train.csv\\\\GUIDE_Train.csv\", chunksize=chunksize):\n",
      "C:\\Users\\Green Gen Tech\\AppData\\Local\\Temp\\ipykernel_11084\\668853785.py:4: DtypeWarning: Columns (35) have mixed types. Specify dtype option on import or set low_memory=False.\n",
      "  for chunk in pd.read_csv(\"C:\\\\Users\\\\Green Gen Tech\\\\Downloads\\\\GUIDE_Train.csv\\\\GUIDE_Train.csv\", chunksize=chunksize):\n",
      "C:\\Users\\Green Gen Tech\\AppData\\Local\\Temp\\ipykernel_11084\\668853785.py:4: DtypeWarning: Columns (35) have mixed types. Specify dtype option on import or set low_memory=False.\n",
      "  for chunk in pd.read_csv(\"C:\\\\Users\\\\Green Gen Tech\\\\Downloads\\\\GUIDE_Train.csv\\\\GUIDE_Train.csv\", chunksize=chunksize):\n",
      "C:\\Users\\Green Gen Tech\\AppData\\Local\\Temp\\ipykernel_11084\\668853785.py:4: DtypeWarning: Columns (35) have mixed types. Specify dtype option on import or set low_memory=False.\n",
      "  for chunk in pd.read_csv(\"C:\\\\Users\\\\Green Gen Tech\\\\Downloads\\\\GUIDE_Train.csv\\\\GUIDE_Train.csv\", chunksize=chunksize):\n",
      "C:\\Users\\Green Gen Tech\\AppData\\Local\\Temp\\ipykernel_11084\\668853785.py:4: DtypeWarning: Columns (35) have mixed types. Specify dtype option on import or set low_memory=False.\n",
      "  for chunk in pd.read_csv(\"C:\\\\Users\\\\Green Gen Tech\\\\Downloads\\\\GUIDE_Train.csv\\\\GUIDE_Train.csv\", chunksize=chunksize):\n",
      "C:\\Users\\Green Gen Tech\\AppData\\Local\\Temp\\ipykernel_11084\\668853785.py:4: DtypeWarning: Columns (35) have mixed types. Specify dtype option on import or set low_memory=False.\n",
      "  for chunk in pd.read_csv(\"C:\\\\Users\\\\Green Gen Tech\\\\Downloads\\\\GUIDE_Train.csv\\\\GUIDE_Train.csv\", chunksize=chunksize):\n",
      "C:\\Users\\Green Gen Tech\\AppData\\Local\\Temp\\ipykernel_11084\\668853785.py:4: DtypeWarning: Columns (35) have mixed types. Specify dtype option on import or set low_memory=False.\n",
      "  for chunk in pd.read_csv(\"C:\\\\Users\\\\Green Gen Tech\\\\Downloads\\\\GUIDE_Train.csv\\\\GUIDE_Train.csv\", chunksize=chunksize):\n",
      "C:\\Users\\Green Gen Tech\\AppData\\Local\\Temp\\ipykernel_11084\\668853785.py:4: DtypeWarning: Columns (35) have mixed types. Specify dtype option on import or set low_memory=False.\n",
      "  for chunk in pd.read_csv(\"C:\\\\Users\\\\Green Gen Tech\\\\Downloads\\\\GUIDE_Train.csv\\\\GUIDE_Train.csv\", chunksize=chunksize):\n",
      "C:\\Users\\Green Gen Tech\\AppData\\Local\\Temp\\ipykernel_11084\\668853785.py:4: DtypeWarning: Columns (35) have mixed types. Specify dtype option on import or set low_memory=False.\n",
      "  for chunk in pd.read_csv(\"C:\\\\Users\\\\Green Gen Tech\\\\Downloads\\\\GUIDE_Train.csv\\\\GUIDE_Train.csv\", chunksize=chunksize):\n",
      "C:\\Users\\Green Gen Tech\\AppData\\Local\\Temp\\ipykernel_11084\\668853785.py:4: DtypeWarning: Columns (35) have mixed types. Specify dtype option on import or set low_memory=False.\n",
      "  for chunk in pd.read_csv(\"C:\\\\Users\\\\Green Gen Tech\\\\Downloads\\\\GUIDE_Train.csv\\\\GUIDE_Train.csv\", chunksize=chunksize):\n",
      "C:\\Users\\Green Gen Tech\\AppData\\Local\\Temp\\ipykernel_11084\\668853785.py:4: DtypeWarning: Columns (35) have mixed types. Specify dtype option on import or set low_memory=False.\n",
      "  for chunk in pd.read_csv(\"C:\\\\Users\\\\Green Gen Tech\\\\Downloads\\\\GUIDE_Train.csv\\\\GUIDE_Train.csv\", chunksize=chunksize):\n",
      "C:\\Users\\Green Gen Tech\\AppData\\Local\\Temp\\ipykernel_11084\\668853785.py:4: DtypeWarning: Columns (35) have mixed types. Specify dtype option on import or set low_memory=False.\n",
      "  for chunk in pd.read_csv(\"C:\\\\Users\\\\Green Gen Tech\\\\Downloads\\\\GUIDE_Train.csv\\\\GUIDE_Train.csv\", chunksize=chunksize):\n"
     ]
    }
   ],
   "source": [
    "chunksize = 100000\n",
    "chunks = []\n",
    "\n",
    "for chunk in pd.read_csv(\"C:\\\\Users\\\\Green Gen Tech\\\\Downloads\\\\GUIDE_Train.csv\\\\GUIDE_Train.csv\", chunksize=chunksize):\n",
    "    # Process each chunk (e.g., append to list, filter, transform, etc.)\n",
    "    chunks.append(chunk)\n",
    "\n",
    "df = pd.concat(chunks, ignore_index=True)"
   ]
  },
  {
   "cell_type": "code",
   "execution_count": 8,
   "metadata": {},
   "outputs": [
    {
     "data": {
      "text/plain": [
       "(9516837, 45)"
      ]
     },
     "execution_count": 8,
     "metadata": {},
     "output_type": "execute_result"
    }
   ],
   "source": [
    "df.shape"
   ]
  },
  {
   "cell_type": "code",
   "execution_count": 6,
   "metadata": {},
   "outputs": [
    {
     "name": "stdout",
     "output_type": "stream",
     "text": [
      "Id                       0\n",
      "OrgId                    0\n",
      "IncidentId               0\n",
      "AlertId                  0\n",
      "Timestamp                0\n",
      "DetectorId               0\n",
      "AlertTitle               0\n",
      "Category                 0\n",
      "MitreTechniques    5468386\n",
      "IncidentGrade        51340\n",
      "ActionGrouped      9460773\n",
      "ActionGranular     9460773\n",
      "EntityType               0\n",
      "EvidenceRole             0\n",
      "DeviceId                 0\n",
      "Sha256                   0\n",
      "IpAddress                0\n",
      "Url                      0\n",
      "AccountSid               0\n",
      "AccountUpn               0\n",
      "dtype: int64\n"
     ]
    }
   ],
   "source": [
    "null_counts = df.iloc[:,:20].isnull().sum()\n",
    "print(null_counts)"
   ]
  },
  {
   "cell_type": "code",
   "execution_count": 9,
   "metadata": {},
   "outputs": [
    {
     "name": "stdout",
     "output_type": "stream",
     "text": [
      "AccountObjectId             0\n",
      "AccountName                 0\n",
      "DeviceName                  0\n",
      "NetworkMessageId            0\n",
      "EmailClusterId        9420025\n",
      "RegistryKey                 0\n",
      "RegistryValueName           0\n",
      "RegistryValueData           0\n",
      "ApplicationId               0\n",
      "ApplicationName             0\n",
      "OAuthApplicationId          0\n",
      "ThreatFamily          9441956\n",
      "FileName                    0\n",
      "FolderPath                  0\n",
      "ResourceIdName              0\n",
      "ResourceType          9509762\n",
      "Roles                 9298686\n",
      "OSFamily                    0\n",
      "OSVersion                   0\n",
      "AntispamDirection     9339535\n",
      "SuspicionLevel        8072708\n",
      "LastVerdict           7282572\n",
      "CountryCode                 0\n",
      "State                       0\n",
      "City                        0\n",
      "dtype: int64\n"
     ]
    }
   ],
   "source": [
    "null_counts = df.iloc[:,20:47].isnull().sum()\n",
    "print(null_counts)"
   ]
  },
  {
   "cell_type": "code",
   "execution_count": 11,
   "metadata": {},
   "outputs": [
    {
     "name": "stdout",
     "output_type": "stream",
     "text": [
      "<class 'pandas.core.frame.DataFrame'>\n",
      "RangeIndex: 9516837 entries, 0 to 9516836\n",
      "Data columns (total 20 columns):\n",
      " #   Column           Dtype \n",
      "---  ------           ----- \n",
      " 0   Id               int64 \n",
      " 1   OrgId            int64 \n",
      " 2   IncidentId       int64 \n",
      " 3   AlertId          int64 \n",
      " 4   Timestamp        object\n",
      " 5   DetectorId       int64 \n",
      " 6   AlertTitle       int64 \n",
      " 7   Category         object\n",
      " 8   MitreTechniques  object\n",
      " 9   IncidentGrade    object\n",
      " 10  ActionGrouped    object\n",
      " 11  ActionGranular   object\n",
      " 12  EntityType       object\n",
      " 13  EvidenceRole     object\n",
      " 14  DeviceId         int64 \n",
      " 15  Sha256           int64 \n",
      " 16  IpAddress        int64 \n",
      " 17  Url              int64 \n",
      " 18  AccountSid       int64 \n",
      " 19  AccountUpn       int64 \n",
      "dtypes: int64(12), object(8)\n",
      "memory usage: 1.4+ GB\n",
      "None\n"
     ]
    }
   ],
   "source": [
    "print(df.iloc[:,:20].info())"
   ]
  },
  {
   "cell_type": "code",
   "execution_count": 12,
   "metadata": {},
   "outputs": [
    {
     "name": "stdout",
     "output_type": "stream",
     "text": [
      "<class 'pandas.core.frame.DataFrame'>\n",
      "RangeIndex: 9516837 entries, 0 to 9516836\n",
      "Data columns (total 25 columns):\n",
      " #   Column              Dtype  \n",
      "---  ------              -----  \n",
      " 0   AccountObjectId     int64  \n",
      " 1   AccountName         int64  \n",
      " 2   DeviceName          int64  \n",
      " 3   NetworkMessageId    int64  \n",
      " 4   EmailClusterId      float64\n",
      " 5   RegistryKey         int64  \n",
      " 6   RegistryValueName   int64  \n",
      " 7   RegistryValueData   int64  \n",
      " 8   ApplicationId       int64  \n",
      " 9   ApplicationName     int64  \n",
      " 10  OAuthApplicationId  int64  \n",
      " 11  ThreatFamily        object \n",
      " 12  FileName            int64  \n",
      " 13  FolderPath          int64  \n",
      " 14  ResourceIdName      int64  \n",
      " 15  ResourceType        object \n",
      " 16  Roles               object \n",
      " 17  OSFamily            int64  \n",
      " 18  OSVersion           int64  \n",
      " 19  AntispamDirection   object \n",
      " 20  SuspicionLevel      object \n",
      " 21  LastVerdict         object \n",
      " 22  CountryCode         int64  \n",
      " 23  State               int64  \n",
      " 24  City                int64  \n",
      "dtypes: float64(1), int64(18), object(6)\n",
      "memory usage: 1.8+ GB\n",
      "None\n"
     ]
    }
   ],
   "source": [
    "print(df.iloc[:,20:45].info())"
   ]
  },
  {
   "cell_type": "code",
   "execution_count": 13,
   "metadata": {},
   "outputs": [
    {
     "name": "stdout",
     "output_type": "stream",
     "text": [
      "IncidentGrade\n",
      "BenignPositive    4110817\n",
      "TruePositive      3322713\n",
      "FalsePositive     2031967\n",
      "Name: count, dtype: int64\n"
     ]
    }
   ],
   "source": [
    "#checking tp, bp, fp\n",
    "print(df['IncidentGrade'].value_counts())"
   ]
  },
  {
   "cell_type": "code",
   "execution_count": 16,
   "metadata": {},
   "outputs": [],
   "source": [
    "#checking columns which has 60% of null values\n",
    "null_percentage = df.isnull().mean()*100\n",
    "unwanted_columns = null_percentage[null_percentage > 90].index.tolist()"
   ]
  },
  {
   "cell_type": "code",
   "execution_count": 17,
   "metadata": {},
   "outputs": [
    {
     "name": "stdout",
     "output_type": "stream",
     "text": [
      "['ActionGrouped', 'ActionGranular', 'EmailClusterId', 'ThreatFamily', 'ResourceType', 'Roles', 'AntispamDirection']\n"
     ]
    }
   ],
   "source": [
    "print(unwanted_columns)"
   ]
  },
  {
   "cell_type": "code",
   "execution_count": 18,
   "metadata": {},
   "outputs": [],
   "source": [
    "#checking columns which has 60% of null values\n",
    "null_percentage = df.isnull().mean()*100\n",
    "unwanted_columns = null_percentage[null_percentage > 70].index.tolist()"
   ]
  },
  {
   "cell_type": "code",
   "execution_count": 19,
   "metadata": {},
   "outputs": [
    {
     "name": "stdout",
     "output_type": "stream",
     "text": [
      "['ActionGrouped', 'ActionGranular', 'EmailClusterId', 'ThreatFamily', 'ResourceType', 'Roles', 'AntispamDirection', 'SuspicionLevel', 'LastVerdict']\n"
     ]
    }
   ],
   "source": [
    "print(unwanted_columns)"
   ]
  },
  {
   "cell_type": "code",
   "execution_count": 21,
   "metadata": {},
   "outputs": [
    {
     "ename": "KeyError",
     "evalue": "\"['ActionGrouped', 'ActionGranular', 'EmailClusterId', 'ThreatFamily', 'ResourceType', 'Roles', 'AntispamDirection', 'SuspicionLevel', 'LastVerdict'] not found in axis\"",
     "output_type": "error",
     "traceback": [
      "\u001b[1;31m---------------------------------------------------------------------------\u001b[0m",
      "\u001b[1;31mKeyError\u001b[0m                                  Traceback (most recent call last)",
      "Cell \u001b[1;32mIn[21], line 2\u001b[0m\n\u001b[0;32m      1\u001b[0m \u001b[38;5;66;03m#dropping 80% of null values holding columns which will make noise to the model prediction after imputing \u001b[39;00m\n\u001b[1;32m----> 2\u001b[0m df \u001b[38;5;241m=\u001b[39m \u001b[43mdf\u001b[49m\u001b[38;5;241;43m.\u001b[39;49m\u001b[43mdrop\u001b[49m\u001b[43m(\u001b[49m\u001b[43mcolumns\u001b[49m\u001b[38;5;241;43m=\u001b[39;49m\u001b[43m[\u001b[49m\u001b[38;5;124;43m'\u001b[39;49m\u001b[38;5;124;43mActionGrouped\u001b[39;49m\u001b[38;5;124;43m'\u001b[39;49m\u001b[43m,\u001b[49m\u001b[43m \u001b[49m\u001b[38;5;124;43m'\u001b[39;49m\u001b[38;5;124;43mActionGranular\u001b[39;49m\u001b[38;5;124;43m'\u001b[39;49m\u001b[43m,\u001b[49m\u001b[43m \u001b[49m\u001b[38;5;124;43m'\u001b[39;49m\u001b[38;5;124;43mEmailClusterId\u001b[39;49m\u001b[38;5;124;43m'\u001b[39;49m\u001b[43m,\u001b[49m\u001b[43m \u001b[49m\u001b[38;5;124;43m'\u001b[39;49m\u001b[38;5;124;43mThreatFamily\u001b[39;49m\u001b[38;5;124;43m'\u001b[39;49m\u001b[43m,\u001b[49m\u001b[43m \u001b[49m\u001b[38;5;124;43m'\u001b[39;49m\u001b[38;5;124;43mResourceType\u001b[39;49m\u001b[38;5;124;43m'\u001b[39;49m\u001b[43m,\u001b[49m\u001b[43m \u001b[49m\u001b[38;5;124;43m'\u001b[39;49m\u001b[38;5;124;43mRoles\u001b[39;49m\u001b[38;5;124;43m'\u001b[39;49m\u001b[43m,\u001b[49m\u001b[43m \u001b[49m\u001b[38;5;124;43m'\u001b[39;49m\u001b[38;5;124;43mAntispamDirection\u001b[39;49m\u001b[38;5;124;43m'\u001b[39;49m\u001b[43m,\u001b[49m\u001b[43m \u001b[49m\u001b[38;5;124;43m'\u001b[39;49m\u001b[38;5;124;43mSuspicionLevel\u001b[39;49m\u001b[38;5;124;43m'\u001b[39;49m\u001b[43m,\u001b[49m\u001b[43m \u001b[49m\u001b[38;5;124;43m'\u001b[39;49m\u001b[38;5;124;43mLastVerdict\u001b[39;49m\u001b[38;5;124;43m'\u001b[39;49m\u001b[43m]\u001b[49m\u001b[43m)\u001b[49m\n\u001b[0;32m      3\u001b[0m \u001b[38;5;28mprint\u001b[39m(df\u001b[38;5;241m.\u001b[39miloc[:,:\u001b[38;5;241m20\u001b[39m]\u001b[38;5;241m.\u001b[39misnull()\u001b[38;5;241m.\u001b[39msum())\n",
      "File \u001b[1;32mc:\\Users\\Green Gen Tech\\Desktop\\Microsoft\\microsoft_venv\\Lib\\site-packages\\pandas\\core\\frame.py:5581\u001b[0m, in \u001b[0;36mDataFrame.drop\u001b[1;34m(self, labels, axis, index, columns, level, inplace, errors)\u001b[0m\n\u001b[0;32m   5433\u001b[0m \u001b[38;5;28;01mdef\u001b[39;00m \u001b[38;5;21mdrop\u001b[39m(\n\u001b[0;32m   5434\u001b[0m     \u001b[38;5;28mself\u001b[39m,\n\u001b[0;32m   5435\u001b[0m     labels: IndexLabel \u001b[38;5;241m|\u001b[39m \u001b[38;5;28;01mNone\u001b[39;00m \u001b[38;5;241m=\u001b[39m \u001b[38;5;28;01mNone\u001b[39;00m,\n\u001b[1;32m   (...)\u001b[0m\n\u001b[0;32m   5442\u001b[0m     errors: IgnoreRaise \u001b[38;5;241m=\u001b[39m \u001b[38;5;124m\"\u001b[39m\u001b[38;5;124mraise\u001b[39m\u001b[38;5;124m\"\u001b[39m,\n\u001b[0;32m   5443\u001b[0m ) \u001b[38;5;241m-\u001b[39m\u001b[38;5;241m>\u001b[39m DataFrame \u001b[38;5;241m|\u001b[39m \u001b[38;5;28;01mNone\u001b[39;00m:\n\u001b[0;32m   5444\u001b[0m \u001b[38;5;250m    \u001b[39m\u001b[38;5;124;03m\"\"\"\u001b[39;00m\n\u001b[0;32m   5445\u001b[0m \u001b[38;5;124;03m    Drop specified labels from rows or columns.\u001b[39;00m\n\u001b[0;32m   5446\u001b[0m \n\u001b[1;32m   (...)\u001b[0m\n\u001b[0;32m   5579\u001b[0m \u001b[38;5;124;03m            weight  1.0     0.8\u001b[39;00m\n\u001b[0;32m   5580\u001b[0m \u001b[38;5;124;03m    \"\"\"\u001b[39;00m\n\u001b[1;32m-> 5581\u001b[0m     \u001b[38;5;28;01mreturn\u001b[39;00m \u001b[38;5;28;43msuper\u001b[39;49m\u001b[43m(\u001b[49m\u001b[43m)\u001b[49m\u001b[38;5;241;43m.\u001b[39;49m\u001b[43mdrop\u001b[49m\u001b[43m(\u001b[49m\n\u001b[0;32m   5582\u001b[0m \u001b[43m        \u001b[49m\u001b[43mlabels\u001b[49m\u001b[38;5;241;43m=\u001b[39;49m\u001b[43mlabels\u001b[49m\u001b[43m,\u001b[49m\n\u001b[0;32m   5583\u001b[0m \u001b[43m        \u001b[49m\u001b[43maxis\u001b[49m\u001b[38;5;241;43m=\u001b[39;49m\u001b[43maxis\u001b[49m\u001b[43m,\u001b[49m\n\u001b[0;32m   5584\u001b[0m \u001b[43m        \u001b[49m\u001b[43mindex\u001b[49m\u001b[38;5;241;43m=\u001b[39;49m\u001b[43mindex\u001b[49m\u001b[43m,\u001b[49m\n\u001b[0;32m   5585\u001b[0m \u001b[43m        \u001b[49m\u001b[43mcolumns\u001b[49m\u001b[38;5;241;43m=\u001b[39;49m\u001b[43mcolumns\u001b[49m\u001b[43m,\u001b[49m\n\u001b[0;32m   5586\u001b[0m \u001b[43m        \u001b[49m\u001b[43mlevel\u001b[49m\u001b[38;5;241;43m=\u001b[39;49m\u001b[43mlevel\u001b[49m\u001b[43m,\u001b[49m\n\u001b[0;32m   5587\u001b[0m \u001b[43m        \u001b[49m\u001b[43minplace\u001b[49m\u001b[38;5;241;43m=\u001b[39;49m\u001b[43minplace\u001b[49m\u001b[43m,\u001b[49m\n\u001b[0;32m   5588\u001b[0m \u001b[43m        \u001b[49m\u001b[43merrors\u001b[49m\u001b[38;5;241;43m=\u001b[39;49m\u001b[43merrors\u001b[49m\u001b[43m,\u001b[49m\n\u001b[0;32m   5589\u001b[0m \u001b[43m    \u001b[49m\u001b[43m)\u001b[49m\n",
      "File \u001b[1;32mc:\\Users\\Green Gen Tech\\Desktop\\Microsoft\\microsoft_venv\\Lib\\site-packages\\pandas\\core\\generic.py:4788\u001b[0m, in \u001b[0;36mNDFrame.drop\u001b[1;34m(self, labels, axis, index, columns, level, inplace, errors)\u001b[0m\n\u001b[0;32m   4786\u001b[0m \u001b[38;5;28;01mfor\u001b[39;00m axis, labels \u001b[38;5;129;01min\u001b[39;00m axes\u001b[38;5;241m.\u001b[39mitems():\n\u001b[0;32m   4787\u001b[0m     \u001b[38;5;28;01mif\u001b[39;00m labels \u001b[38;5;129;01mis\u001b[39;00m \u001b[38;5;129;01mnot\u001b[39;00m \u001b[38;5;28;01mNone\u001b[39;00m:\n\u001b[1;32m-> 4788\u001b[0m         obj \u001b[38;5;241m=\u001b[39m \u001b[43mobj\u001b[49m\u001b[38;5;241;43m.\u001b[39;49m\u001b[43m_drop_axis\u001b[49m\u001b[43m(\u001b[49m\u001b[43mlabels\u001b[49m\u001b[43m,\u001b[49m\u001b[43m \u001b[49m\u001b[43maxis\u001b[49m\u001b[43m,\u001b[49m\u001b[43m \u001b[49m\u001b[43mlevel\u001b[49m\u001b[38;5;241;43m=\u001b[39;49m\u001b[43mlevel\u001b[49m\u001b[43m,\u001b[49m\u001b[43m \u001b[49m\u001b[43merrors\u001b[49m\u001b[38;5;241;43m=\u001b[39;49m\u001b[43merrors\u001b[49m\u001b[43m)\u001b[49m\n\u001b[0;32m   4790\u001b[0m \u001b[38;5;28;01mif\u001b[39;00m inplace:\n\u001b[0;32m   4791\u001b[0m     \u001b[38;5;28mself\u001b[39m\u001b[38;5;241m.\u001b[39m_update_inplace(obj)\n",
      "File \u001b[1;32mc:\\Users\\Green Gen Tech\\Desktop\\Microsoft\\microsoft_venv\\Lib\\site-packages\\pandas\\core\\generic.py:4830\u001b[0m, in \u001b[0;36mNDFrame._drop_axis\u001b[1;34m(self, labels, axis, level, errors, only_slice)\u001b[0m\n\u001b[0;32m   4828\u001b[0m         new_axis \u001b[38;5;241m=\u001b[39m axis\u001b[38;5;241m.\u001b[39mdrop(labels, level\u001b[38;5;241m=\u001b[39mlevel, errors\u001b[38;5;241m=\u001b[39merrors)\n\u001b[0;32m   4829\u001b[0m     \u001b[38;5;28;01melse\u001b[39;00m:\n\u001b[1;32m-> 4830\u001b[0m         new_axis \u001b[38;5;241m=\u001b[39m \u001b[43maxis\u001b[49m\u001b[38;5;241;43m.\u001b[39;49m\u001b[43mdrop\u001b[49m\u001b[43m(\u001b[49m\u001b[43mlabels\u001b[49m\u001b[43m,\u001b[49m\u001b[43m \u001b[49m\u001b[43merrors\u001b[49m\u001b[38;5;241;43m=\u001b[39;49m\u001b[43merrors\u001b[49m\u001b[43m)\u001b[49m\n\u001b[0;32m   4831\u001b[0m     indexer \u001b[38;5;241m=\u001b[39m axis\u001b[38;5;241m.\u001b[39mget_indexer(new_axis)\n\u001b[0;32m   4833\u001b[0m \u001b[38;5;66;03m# Case for non-unique axis\u001b[39;00m\n\u001b[0;32m   4834\u001b[0m \u001b[38;5;28;01melse\u001b[39;00m:\n",
      "File \u001b[1;32mc:\\Users\\Green Gen Tech\\Desktop\\Microsoft\\microsoft_venv\\Lib\\site-packages\\pandas\\core\\indexes\\base.py:7070\u001b[0m, in \u001b[0;36mIndex.drop\u001b[1;34m(self, labels, errors)\u001b[0m\n\u001b[0;32m   7068\u001b[0m \u001b[38;5;28;01mif\u001b[39;00m mask\u001b[38;5;241m.\u001b[39many():\n\u001b[0;32m   7069\u001b[0m     \u001b[38;5;28;01mif\u001b[39;00m errors \u001b[38;5;241m!=\u001b[39m \u001b[38;5;124m\"\u001b[39m\u001b[38;5;124mignore\u001b[39m\u001b[38;5;124m\"\u001b[39m:\n\u001b[1;32m-> 7070\u001b[0m         \u001b[38;5;28;01mraise\u001b[39;00m \u001b[38;5;167;01mKeyError\u001b[39;00m(\u001b[38;5;124mf\u001b[39m\u001b[38;5;124m\"\u001b[39m\u001b[38;5;132;01m{\u001b[39;00mlabels[mask]\u001b[38;5;241m.\u001b[39mtolist()\u001b[38;5;132;01m}\u001b[39;00m\u001b[38;5;124m not found in axis\u001b[39m\u001b[38;5;124m\"\u001b[39m)\n\u001b[0;32m   7071\u001b[0m     indexer \u001b[38;5;241m=\u001b[39m indexer[\u001b[38;5;241m~\u001b[39mmask]\n\u001b[0;32m   7072\u001b[0m \u001b[38;5;28;01mreturn\u001b[39;00m \u001b[38;5;28mself\u001b[39m\u001b[38;5;241m.\u001b[39mdelete(indexer)\n",
      "\u001b[1;31mKeyError\u001b[0m: \"['ActionGrouped', 'ActionGranular', 'EmailClusterId', 'ThreatFamily', 'ResourceType', 'Roles', 'AntispamDirection', 'SuspicionLevel', 'LastVerdict'] not found in axis\""
     ]
    }
   ],
   "source": [
    "#dropping 80% of null values holding columns which will make noise to the model prediction after imputing \n",
    "df = df.drop(columns=['ActionGrouped', 'ActionGranular', 'EmailClusterId', 'ThreatFamily', 'ResourceType', 'Roles', 'AntispamDirection', 'SuspicionLevel', 'LastVerdict'])\n",
    "print(df.iloc[:,:20].isnull().sum())\n"
   ]
  },
  {
   "cell_type": "code",
   "execution_count": 22,
   "metadata": {},
   "outputs": [
    {
     "name": "stdout",
     "output_type": "stream",
     "text": [
      "Id                       0\n",
      "OrgId                    0\n",
      "IncidentId               0\n",
      "AlertId                  0\n",
      "Timestamp                0\n",
      "DetectorId               0\n",
      "AlertTitle               0\n",
      "Category                 0\n",
      "MitreTechniques    5468386\n",
      "IncidentGrade        51340\n",
      "EntityType               0\n",
      "EvidenceRole             0\n",
      "DeviceId                 0\n",
      "Sha256                   0\n",
      "IpAddress                0\n",
      "Url                      0\n",
      "AccountSid               0\n",
      "AccountUpn               0\n",
      "AccountObjectId          0\n",
      "AccountName              0\n",
      "dtype: int64\n"
     ]
    }
   ],
   "source": [
    "print(df.iloc[:,:20].isnull().sum())"
   ]
  },
  {
   "cell_type": "code",
   "execution_count": 23,
   "metadata": {},
   "outputs": [
    {
     "name": "stdout",
     "output_type": "stream",
     "text": [
      "DeviceName            0\n",
      "NetworkMessageId      0\n",
      "RegistryKey           0\n",
      "RegistryValueName     0\n",
      "RegistryValueData     0\n",
      "ApplicationId         0\n",
      "ApplicationName       0\n",
      "OAuthApplicationId    0\n",
      "FileName              0\n",
      "FolderPath            0\n",
      "ResourceIdName        0\n",
      "OSFamily              0\n",
      "OSVersion             0\n",
      "CountryCode           0\n",
      "State                 0\n",
      "City                  0\n",
      "dtype: int64\n"
     ]
    }
   ],
   "source": [
    "print(df.iloc[:,20:45].isnull().sum())"
   ]
  },
  {
   "cell_type": "code",
   "execution_count": null,
   "metadata": {},
   "outputs": [],
   "source": [
    "\n",
    "# Select relevant columns for prediction\n",
    "features = ['Category', 'AlertTitle']  # Adjust based on your data\n",
    "X = df[features]\n",
    "y = df['IncidentGrade']\n",
    "\n",
    "# Drop rows where 'IncidentGrade' is missing\n",
    "df_not_null = df.dropna(subset=['IncidentGrade'])\n",
    "X_train = df_not_null[features]\n",
    "y_train = df_not_null['IncidentGrade']\n",
    "\n",
    "# Train a model\n",
    "model = DecisionTreeClassifier()\n",
    "model.fit(X_train, y_train)\n",
    "\n",
    "# Predict missing values\n",
    "df_missing = df[df['IncidentGrade'].isnull()]\n",
    "X_test = df_missing[features]\n",
    "df.loc[df['IncidentGrade'].isnull(), 'IncidentGrade'] = model.predict(X_test)\n"
   ]
  }
 ],
 "metadata": {
  "kernelspec": {
   "display_name": "microsoft_venv",
   "language": "python",
   "name": "python3"
  },
  "language_info": {
   "codemirror_mode": {
    "name": "ipython",
    "version": 3
   },
   "file_extension": ".py",
   "mimetype": "text/x-python",
   "name": "python",
   "nbconvert_exporter": "python",
   "pygments_lexer": "ipython3",
   "version": "3.12.3"
  }
 },
 "nbformat": 4,
 "nbformat_minor": 2
}
