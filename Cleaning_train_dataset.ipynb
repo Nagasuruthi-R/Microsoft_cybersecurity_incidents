{
 "cells": [
  {
   "cell_type": "code",
   "execution_count": 3,
   "metadata": {},
   "outputs": [],
   "source": [
    "import pandas as pd"
   ]
  },
  {
   "cell_type": "code",
   "execution_count": 3,
   "metadata": {},
   "outputs": [
    {
     "data": {
      "text/html": [
       "<div>\n",
       "<style scoped>\n",
       "    .dataframe tbody tr th:only-of-type {\n",
       "        vertical-align: middle;\n",
       "    }\n",
       "\n",
       "    .dataframe tbody tr th {\n",
       "        vertical-align: top;\n",
       "    }\n",
       "\n",
       "    .dataframe thead th {\n",
       "        text-align: right;\n",
       "    }\n",
       "</style>\n",
       "<table border=\"1\" class=\"dataframe\">\n",
       "  <thead>\n",
       "    <tr style=\"text-align: right;\">\n",
       "      <th></th>\n",
       "      <th>Id</th>\n",
       "      <th>OrgId</th>\n",
       "      <th>IncidentId</th>\n",
       "      <th>AlertId</th>\n",
       "      <th>Timestamp</th>\n",
       "      <th>DetectorId</th>\n",
       "      <th>AlertTitle</th>\n",
       "      <th>Category</th>\n",
       "      <th>MitreTechniques</th>\n",
       "      <th>IncidentGrade</th>\n",
       "      <th>...</th>\n",
       "      <th>ResourceType</th>\n",
       "      <th>Roles</th>\n",
       "      <th>OSFamily</th>\n",
       "      <th>OSVersion</th>\n",
       "      <th>AntispamDirection</th>\n",
       "      <th>SuspicionLevel</th>\n",
       "      <th>LastVerdict</th>\n",
       "      <th>CountryCode</th>\n",
       "      <th>State</th>\n",
       "      <th>City</th>\n",
       "    </tr>\n",
       "  </thead>\n",
       "  <tbody>\n",
       "    <tr>\n",
       "      <th>0</th>\n",
       "      <td>180388628218</td>\n",
       "      <td>0</td>\n",
       "      <td>612</td>\n",
       "      <td>123247</td>\n",
       "      <td>2024-06-04T06:05:15.000Z</td>\n",
       "      <td>7</td>\n",
       "      <td>6</td>\n",
       "      <td>InitialAccess</td>\n",
       "      <td>NaN</td>\n",
       "      <td>TruePositive</td>\n",
       "      <td>...</td>\n",
       "      <td>NaN</td>\n",
       "      <td>NaN</td>\n",
       "      <td>5</td>\n",
       "      <td>66</td>\n",
       "      <td>NaN</td>\n",
       "      <td>NaN</td>\n",
       "      <td>NaN</td>\n",
       "      <td>31</td>\n",
       "      <td>6</td>\n",
       "      <td>3</td>\n",
       "    </tr>\n",
       "    <tr>\n",
       "      <th>1</th>\n",
       "      <td>455266534868</td>\n",
       "      <td>88</td>\n",
       "      <td>326</td>\n",
       "      <td>210035</td>\n",
       "      <td>2024-06-14T03:01:25.000Z</td>\n",
       "      <td>58</td>\n",
       "      <td>43</td>\n",
       "      <td>Exfiltration</td>\n",
       "      <td>NaN</td>\n",
       "      <td>FalsePositive</td>\n",
       "      <td>...</td>\n",
       "      <td>NaN</td>\n",
       "      <td>NaN</td>\n",
       "      <td>5</td>\n",
       "      <td>66</td>\n",
       "      <td>NaN</td>\n",
       "      <td>NaN</td>\n",
       "      <td>NaN</td>\n",
       "      <td>242</td>\n",
       "      <td>1445</td>\n",
       "      <td>10630</td>\n",
       "    </tr>\n",
       "    <tr>\n",
       "      <th>2</th>\n",
       "      <td>1056561957389</td>\n",
       "      <td>809</td>\n",
       "      <td>58352</td>\n",
       "      <td>712507</td>\n",
       "      <td>2024-06-13T04:52:55.000Z</td>\n",
       "      <td>423</td>\n",
       "      <td>298</td>\n",
       "      <td>InitialAccess</td>\n",
       "      <td>T1189</td>\n",
       "      <td>FalsePositive</td>\n",
       "      <td>...</td>\n",
       "      <td>NaN</td>\n",
       "      <td>NaN</td>\n",
       "      <td>5</td>\n",
       "      <td>66</td>\n",
       "      <td>NaN</td>\n",
       "      <td>Suspicious</td>\n",
       "      <td>Suspicious</td>\n",
       "      <td>242</td>\n",
       "      <td>1445</td>\n",
       "      <td>10630</td>\n",
       "    </tr>\n",
       "    <tr>\n",
       "      <th>3</th>\n",
       "      <td>1279900258736</td>\n",
       "      <td>92</td>\n",
       "      <td>32992</td>\n",
       "      <td>774301</td>\n",
       "      <td>2024-06-10T16:39:36.000Z</td>\n",
       "      <td>2</td>\n",
       "      <td>2</td>\n",
       "      <td>CommandAndControl</td>\n",
       "      <td>NaN</td>\n",
       "      <td>BenignPositive</td>\n",
       "      <td>...</td>\n",
       "      <td>NaN</td>\n",
       "      <td>NaN</td>\n",
       "      <td>5</td>\n",
       "      <td>66</td>\n",
       "      <td>NaN</td>\n",
       "      <td>Suspicious</td>\n",
       "      <td>Suspicious</td>\n",
       "      <td>242</td>\n",
       "      <td>1445</td>\n",
       "      <td>10630</td>\n",
       "    </tr>\n",
       "    <tr>\n",
       "      <th>4</th>\n",
       "      <td>214748368522</td>\n",
       "      <td>148</td>\n",
       "      <td>4359</td>\n",
       "      <td>188041</td>\n",
       "      <td>2024-06-15T01:08:07.000Z</td>\n",
       "      <td>9</td>\n",
       "      <td>74</td>\n",
       "      <td>Execution</td>\n",
       "      <td>NaN</td>\n",
       "      <td>TruePositive</td>\n",
       "      <td>...</td>\n",
       "      <td>NaN</td>\n",
       "      <td>NaN</td>\n",
       "      <td>5</td>\n",
       "      <td>66</td>\n",
       "      <td>NaN</td>\n",
       "      <td>NaN</td>\n",
       "      <td>NaN</td>\n",
       "      <td>242</td>\n",
       "      <td>1445</td>\n",
       "      <td>10630</td>\n",
       "    </tr>\n",
       "  </tbody>\n",
       "</table>\n",
       "<p>5 rows × 45 columns</p>\n",
       "</div>"
      ],
      "text/plain": [
       "              Id  OrgId  IncidentId  AlertId                 Timestamp  \\\n",
       "0   180388628218      0         612   123247  2024-06-04T06:05:15.000Z   \n",
       "1   455266534868     88         326   210035  2024-06-14T03:01:25.000Z   \n",
       "2  1056561957389    809       58352   712507  2024-06-13T04:52:55.000Z   \n",
       "3  1279900258736     92       32992   774301  2024-06-10T16:39:36.000Z   \n",
       "4   214748368522    148        4359   188041  2024-06-15T01:08:07.000Z   \n",
       "\n",
       "   DetectorId  AlertTitle           Category MitreTechniques   IncidentGrade  \\\n",
       "0           7           6      InitialAccess             NaN    TruePositive   \n",
       "1          58          43       Exfiltration             NaN   FalsePositive   \n",
       "2         423         298      InitialAccess           T1189   FalsePositive   \n",
       "3           2           2  CommandAndControl             NaN  BenignPositive   \n",
       "4           9          74          Execution             NaN    TruePositive   \n",
       "\n",
       "   ... ResourceType Roles OSFamily OSVersion  AntispamDirection  \\\n",
       "0  ...          NaN   NaN        5        66                NaN   \n",
       "1  ...          NaN   NaN        5        66                NaN   \n",
       "2  ...          NaN   NaN        5        66                NaN   \n",
       "3  ...          NaN   NaN        5        66                NaN   \n",
       "4  ...          NaN   NaN        5        66                NaN   \n",
       "\n",
       "   SuspicionLevel  LastVerdict  CountryCode  State   City  \n",
       "0             NaN          NaN           31      6      3  \n",
       "1             NaN          NaN          242   1445  10630  \n",
       "2      Suspicious   Suspicious          242   1445  10630  \n",
       "3      Suspicious   Suspicious          242   1445  10630  \n",
       "4             NaN          NaN          242   1445  10630  \n",
       "\n",
       "[5 rows x 45 columns]"
      ]
     },
     "execution_count": 3,
     "metadata": {},
     "output_type": "execute_result"
    }
   ],
   "source": [
    "df = pd.read_csv(\"C:\\\\Users\\\\Green Gen Tech\\\\Downloads\\\\GUIDE_Train.csv\\\\GUIDE_Train.csv\", nrows = 10000)\n",
    "df.head()"
   ]
  },
  {
   "cell_type": "code",
   "execution_count": 6,
   "metadata": {},
   "outputs": [
    {
     "name": "stdout",
     "output_type": "stream",
     "text": [
      "                 Id  OrgId  IncidentId  AlertId                 Timestamp  \\\n",
      "0      180388628218      0         612   123247  2024-06-04T06:05:15.000Z   \n",
      "1      455266534868     88         326   210035  2024-06-14T03:01:25.000Z   \n",
      "2     1056561957389    809       58352   712507  2024-06-13T04:52:55.000Z   \n",
      "3     1279900258736     92       32992   774301  2024-06-10T16:39:36.000Z   \n",
      "4      214748368522    148        4359   188041  2024-06-15T01:08:07.000Z   \n",
      "...             ...    ...         ...      ...                       ...   \n",
      "9995   687194770257     75      394228   871699  2024-06-11T16:43:21.000Z   \n",
      "9996   730144442453     49       29149    18644  2024-06-07T06:51:11.000Z   \n",
      "9997   154618823286     17       56608   133226  2024-06-07T23:48:32.000Z   \n",
      "9998   120259085306    408      201579  1372581  2024-06-05T18:43:59.000Z   \n",
      "9999   377957124787     40      145697   303534  2024-06-15T12:11:19.000Z   \n",
      "\n",
      "      DetectorId  AlertTitle            Category  MitreTechniques  \\\n",
      "0              7           6       InitialAccess              NaN   \n",
      "1             58          43        Exfiltration              NaN   \n",
      "2            423         298       InitialAccess            T1189   \n",
      "3              2           2   CommandAndControl              NaN   \n",
      "4              9          74           Execution              NaN   \n",
      "...          ...         ...                 ...              ...   \n",
      "9995           0           0       InitialAccess  T1078;T1078.004   \n",
      "9996           1           1       InitialAccess        T1566.002   \n",
      "9997          20       29882        Exfiltration              NaN   \n",
      "9998          81       12372  SuspiciousActivity              NaN   \n",
      "9999          28          19       InitialAccess            T1566   \n",
      "\n",
      "       IncidentGrade  ... ResourceType Roles OSFamily OSVersion  \\\n",
      "0       TruePositive  ...          NaN   NaN        5        66   \n",
      "1      FalsePositive  ...          NaN   NaN        5        66   \n",
      "2      FalsePositive  ...          NaN   NaN        5        66   \n",
      "3     BenignPositive  ...          NaN   NaN        5        66   \n",
      "4       TruePositive  ...          NaN   NaN        5        66   \n",
      "...              ...  ...          ...   ...      ...       ...   \n",
      "9995   FalsePositive  ...          NaN   NaN        5        66   \n",
      "9996    TruePositive  ...          NaN   NaN        5        66   \n",
      "9997   FalsePositive  ...          NaN   NaN        5        66   \n",
      "9998   FalsePositive  ...          NaN   NaN        5        66   \n",
      "9999  BenignPositive  ...          NaN   NaN        5        66   \n",
      "\n",
      "      AntispamDirection  SuspicionLevel  LastVerdict  CountryCode  State  \\\n",
      "0                   NaN             NaN          NaN           31      6   \n",
      "1                   NaN             NaN          NaN          242   1445   \n",
      "2                   NaN      Suspicious   Suspicious          242   1445   \n",
      "3                   NaN      Suspicious   Suspicious          242   1445   \n",
      "4                   NaN             NaN          NaN          242   1445   \n",
      "...                 ...             ...          ...          ...    ...   \n",
      "9995                NaN             NaN          NaN          242   1445   \n",
      "9996                NaN             NaN          NaN          242   1445   \n",
      "9997                NaN             NaN          NaN          242   1445   \n",
      "9998                NaN             NaN          NaN          242   1445   \n",
      "9999                NaN             NaN    Malicious          242   1445   \n",
      "\n",
      "       City  \n",
      "0         3  \n",
      "1     10630  \n",
      "2     10630  \n",
      "3     10630  \n",
      "4     10630  \n",
      "...     ...  \n",
      "9995  10630  \n",
      "9996  10630  \n",
      "9997  10630  \n",
      "9998  10630  \n",
      "9999  10630  \n",
      "\n",
      "[10000 rows x 45 columns]\n"
     ]
    }
   ],
   "source": [
    "print(df)"
   ]
  },
  {
   "cell_type": "code",
   "execution_count": 7,
   "metadata": {},
   "outputs": [
    {
     "name": "stdout",
     "output_type": "stream",
     "text": [
      "['Id', 'OrgId', 'IncidentId', 'AlertId', 'Timestamp', 'DetectorId', 'AlertTitle', 'Category', 'MitreTechniques', 'IncidentGrade', 'ActionGrouped', 'ActionGranular', 'EntityType', 'EvidenceRole', 'DeviceId', 'Sha256', 'IpAddress', 'Url', 'AccountSid', 'AccountUpn']\n",
      "['AccountObjectId', 'AccountName', 'DeviceName', 'NetworkMessageId', 'EmailClusterId', 'RegistryKey', 'RegistryValueName', 'RegistryValueData', 'ApplicationId', 'ApplicationName', 'OAuthApplicationId', 'ThreatFamily', 'FileName', 'FolderPath', 'ResourceIdName', 'ResourceType', 'Roles', 'OSFamily', 'OSVersion', 'AntispamDirection']\n",
      "['SuspicionLevel', 'LastVerdict', 'CountryCode', 'State', 'City']\n"
     ]
    }
   ],
   "source": [
    "column_names = df.columns.tolist()\n",
    "print(column_names[:20])\n",
    "print(column_names[20:40])\n",
    "print(column_names[40:60])"
   ]
  },
  {
   "cell_type": "code",
   "execution_count": 10,
   "metadata": {},
   "outputs": [
    {
     "data": {
      "text/plain": [
       "['MitreTechniques',\n",
       " 'ActionGrouped',\n",
       " 'ActionGranular',\n",
       " 'EmailClusterId',\n",
       " 'ThreatFamily',\n",
       " 'ResourceType',\n",
       " 'Roles',\n",
       " 'AntispamDirection',\n",
       " 'SuspicionLevel',\n",
       " 'LastVerdict']"
      ]
     },
     "execution_count": 10,
     "metadata": {},
     "output_type": "execute_result"
    }
   ],
   "source": [
    "#checking columns which has 60% of null values\n",
    "null_percentage = df.isnull().mean()*100\n",
    "unwanted_columns = null_percentage[null_percentage > 50].index.tolist()\n",
    "unwanted_columns"
   ]
  },
  {
   "cell_type": "code",
   "execution_count": 12,
   "metadata": {},
   "outputs": [
    {
     "data": {
      "text/plain": [
       "[]"
      ]
     },
     "execution_count": 12,
     "metadata": {},
     "output_type": "execute_result"
    }
   ],
   "source": [
    "duplicate_columns = df.T[df.T.duplicated()].index.tolist()\n",
    "duplicate_columns"
   ]
  },
  {
   "cell_type": "code",
   "execution_count": 4,
   "metadata": {},
   "outputs": [
    {
     "ename": "MemoryError",
     "evalue": "Unable to allocate 218. MiB for an array with shape (3, 9516837) and data type object",
     "output_type": "error",
     "traceback": [
      "\u001b[1;31m---------------------------------------------------------------------------\u001b[0m",
      "\u001b[1;31mMemoryError\u001b[0m                               Traceback (most recent call last)",
      "Cell \u001b[1;32mIn[4], line 1\u001b[0m\n\u001b[1;32m----> 1\u001b[0m df \u001b[38;5;241m=\u001b[39m \u001b[43mpd\u001b[49m\u001b[38;5;241;43m.\u001b[39;49m\u001b[43mread_csv\u001b[49m\u001b[43m(\u001b[49m\u001b[38;5;124;43m\"\u001b[39;49m\u001b[38;5;124;43mC:\u001b[39;49m\u001b[38;5;130;43;01m\\\\\u001b[39;49;00m\u001b[38;5;124;43mUsers\u001b[39;49m\u001b[38;5;130;43;01m\\\\\u001b[39;49;00m\u001b[38;5;124;43mGreen Gen Tech\u001b[39;49m\u001b[38;5;130;43;01m\\\\\u001b[39;49;00m\u001b[38;5;124;43mDownloads\u001b[39;49m\u001b[38;5;130;43;01m\\\\\u001b[39;49;00m\u001b[38;5;124;43mGUIDE_Train.csv\u001b[39;49m\u001b[38;5;130;43;01m\\\\\u001b[39;49;00m\u001b[38;5;124;43mGUIDE_Train.csv\u001b[39;49m\u001b[38;5;124;43m\"\u001b[39;49m\u001b[43m)\u001b[49m\n\u001b[0;32m      2\u001b[0m df\u001b[38;5;241m.\u001b[39mshape\n",
      "File \u001b[1;32mc:\\Users\\Green Gen Tech\\Desktop\\Microsoft\\microsoft_venv\\Lib\\site-packages\\pandas\\io\\parsers\\readers.py:1026\u001b[0m, in \u001b[0;36mread_csv\u001b[1;34m(filepath_or_buffer, sep, delimiter, header, names, index_col, usecols, dtype, engine, converters, true_values, false_values, skipinitialspace, skiprows, skipfooter, nrows, na_values, keep_default_na, na_filter, verbose, skip_blank_lines, parse_dates, infer_datetime_format, keep_date_col, date_parser, date_format, dayfirst, cache_dates, iterator, chunksize, compression, thousands, decimal, lineterminator, quotechar, quoting, doublequote, escapechar, comment, encoding, encoding_errors, dialect, on_bad_lines, delim_whitespace, low_memory, memory_map, float_precision, storage_options, dtype_backend)\u001b[0m\n\u001b[0;32m   1013\u001b[0m kwds_defaults \u001b[38;5;241m=\u001b[39m _refine_defaults_read(\n\u001b[0;32m   1014\u001b[0m     dialect,\n\u001b[0;32m   1015\u001b[0m     delimiter,\n\u001b[1;32m   (...)\u001b[0m\n\u001b[0;32m   1022\u001b[0m     dtype_backend\u001b[38;5;241m=\u001b[39mdtype_backend,\n\u001b[0;32m   1023\u001b[0m )\n\u001b[0;32m   1024\u001b[0m kwds\u001b[38;5;241m.\u001b[39mupdate(kwds_defaults)\n\u001b[1;32m-> 1026\u001b[0m \u001b[38;5;28;01mreturn\u001b[39;00m \u001b[43m_read\u001b[49m\u001b[43m(\u001b[49m\u001b[43mfilepath_or_buffer\u001b[49m\u001b[43m,\u001b[49m\u001b[43m \u001b[49m\u001b[43mkwds\u001b[49m\u001b[43m)\u001b[49m\n",
      "File \u001b[1;32mc:\\Users\\Green Gen Tech\\Desktop\\Microsoft\\microsoft_venv\\Lib\\site-packages\\pandas\\io\\parsers\\readers.py:626\u001b[0m, in \u001b[0;36m_read\u001b[1;34m(filepath_or_buffer, kwds)\u001b[0m\n\u001b[0;32m    623\u001b[0m     \u001b[38;5;28;01mreturn\u001b[39;00m parser\n\u001b[0;32m    625\u001b[0m \u001b[38;5;28;01mwith\u001b[39;00m parser:\n\u001b[1;32m--> 626\u001b[0m     \u001b[38;5;28;01mreturn\u001b[39;00m \u001b[43mparser\u001b[49m\u001b[38;5;241;43m.\u001b[39;49m\u001b[43mread\u001b[49m\u001b[43m(\u001b[49m\u001b[43mnrows\u001b[49m\u001b[43m)\u001b[49m\n",
      "File \u001b[1;32mc:\\Users\\Green Gen Tech\\Desktop\\Microsoft\\microsoft_venv\\Lib\\site-packages\\pandas\\io\\parsers\\readers.py:1968\u001b[0m, in \u001b[0;36mTextFileReader.read\u001b[1;34m(self, nrows)\u001b[0m\n\u001b[0;32m   1965\u001b[0m     \u001b[38;5;28;01melse\u001b[39;00m:\n\u001b[0;32m   1966\u001b[0m         new_col_dict \u001b[38;5;241m=\u001b[39m col_dict\n\u001b[1;32m-> 1968\u001b[0m     df \u001b[38;5;241m=\u001b[39m \u001b[43mDataFrame\u001b[49m\u001b[43m(\u001b[49m\n\u001b[0;32m   1969\u001b[0m \u001b[43m        \u001b[49m\u001b[43mnew_col_dict\u001b[49m\u001b[43m,\u001b[49m\n\u001b[0;32m   1970\u001b[0m \u001b[43m        \u001b[49m\u001b[43mcolumns\u001b[49m\u001b[38;5;241;43m=\u001b[39;49m\u001b[43mcolumns\u001b[49m\u001b[43m,\u001b[49m\n\u001b[0;32m   1971\u001b[0m \u001b[43m        \u001b[49m\u001b[43mindex\u001b[49m\u001b[38;5;241;43m=\u001b[39;49m\u001b[43mindex\u001b[49m\u001b[43m,\u001b[49m\n\u001b[0;32m   1972\u001b[0m \u001b[43m        \u001b[49m\u001b[43mcopy\u001b[49m\u001b[38;5;241;43m=\u001b[39;49m\u001b[38;5;129;43;01mnot\u001b[39;49;00m\u001b[43m \u001b[49m\u001b[43musing_copy_on_write\u001b[49m\u001b[43m(\u001b[49m\u001b[43m)\u001b[49m\u001b[43m,\u001b[49m\n\u001b[0;32m   1973\u001b[0m \u001b[43m    \u001b[49m\u001b[43m)\u001b[49m\n\u001b[0;32m   1975\u001b[0m     \u001b[38;5;28mself\u001b[39m\u001b[38;5;241m.\u001b[39m_currow \u001b[38;5;241m+\u001b[39m\u001b[38;5;241m=\u001b[39m new_rows\n\u001b[0;32m   1976\u001b[0m \u001b[38;5;28;01mreturn\u001b[39;00m df\n",
      "File \u001b[1;32mc:\\Users\\Green Gen Tech\\Desktop\\Microsoft\\microsoft_venv\\Lib\\site-packages\\pandas\\core\\frame.py:778\u001b[0m, in \u001b[0;36mDataFrame.__init__\u001b[1;34m(self, data, index, columns, dtype, copy)\u001b[0m\n\u001b[0;32m    772\u001b[0m     mgr \u001b[38;5;241m=\u001b[39m \u001b[38;5;28mself\u001b[39m\u001b[38;5;241m.\u001b[39m_init_mgr(\n\u001b[0;32m    773\u001b[0m         data, axes\u001b[38;5;241m=\u001b[39m{\u001b[38;5;124m\"\u001b[39m\u001b[38;5;124mindex\u001b[39m\u001b[38;5;124m\"\u001b[39m: index, \u001b[38;5;124m\"\u001b[39m\u001b[38;5;124mcolumns\u001b[39m\u001b[38;5;124m\"\u001b[39m: columns}, dtype\u001b[38;5;241m=\u001b[39mdtype, copy\u001b[38;5;241m=\u001b[39mcopy\n\u001b[0;32m    774\u001b[0m     )\n\u001b[0;32m    776\u001b[0m \u001b[38;5;28;01melif\u001b[39;00m \u001b[38;5;28misinstance\u001b[39m(data, \u001b[38;5;28mdict\u001b[39m):\n\u001b[0;32m    777\u001b[0m     \u001b[38;5;66;03m# GH#38939 de facto copy defaults to False only in non-dict cases\u001b[39;00m\n\u001b[1;32m--> 778\u001b[0m     mgr \u001b[38;5;241m=\u001b[39m \u001b[43mdict_to_mgr\u001b[49m\u001b[43m(\u001b[49m\u001b[43mdata\u001b[49m\u001b[43m,\u001b[49m\u001b[43m \u001b[49m\u001b[43mindex\u001b[49m\u001b[43m,\u001b[49m\u001b[43m \u001b[49m\u001b[43mcolumns\u001b[49m\u001b[43m,\u001b[49m\u001b[43m \u001b[49m\u001b[43mdtype\u001b[49m\u001b[38;5;241;43m=\u001b[39;49m\u001b[43mdtype\u001b[49m\u001b[43m,\u001b[49m\u001b[43m \u001b[49m\u001b[43mcopy\u001b[49m\u001b[38;5;241;43m=\u001b[39;49m\u001b[43mcopy\u001b[49m\u001b[43m,\u001b[49m\u001b[43m \u001b[49m\u001b[43mtyp\u001b[49m\u001b[38;5;241;43m=\u001b[39;49m\u001b[43mmanager\u001b[49m\u001b[43m)\u001b[49m\n\u001b[0;32m    779\u001b[0m \u001b[38;5;28;01melif\u001b[39;00m \u001b[38;5;28misinstance\u001b[39m(data, ma\u001b[38;5;241m.\u001b[39mMaskedArray):\n\u001b[0;32m    780\u001b[0m     \u001b[38;5;28;01mfrom\u001b[39;00m \u001b[38;5;21;01mnumpy\u001b[39;00m\u001b[38;5;21;01m.\u001b[39;00m\u001b[38;5;21;01mma\u001b[39;00m \u001b[38;5;28;01mimport\u001b[39;00m mrecords\n",
      "File \u001b[1;32mc:\\Users\\Green Gen Tech\\Desktop\\Microsoft\\microsoft_venv\\Lib\\site-packages\\pandas\\core\\internals\\construction.py:503\u001b[0m, in \u001b[0;36mdict_to_mgr\u001b[1;34m(data, index, columns, dtype, typ, copy)\u001b[0m\n\u001b[0;32m    499\u001b[0m     \u001b[38;5;28;01melse\u001b[39;00m:\n\u001b[0;32m    500\u001b[0m         \u001b[38;5;66;03m# dtype check to exclude e.g. range objects, scalars\u001b[39;00m\n\u001b[0;32m    501\u001b[0m         arrays \u001b[38;5;241m=\u001b[39m [x\u001b[38;5;241m.\u001b[39mcopy() \u001b[38;5;28;01mif\u001b[39;00m \u001b[38;5;28mhasattr\u001b[39m(x, \u001b[38;5;124m\"\u001b[39m\u001b[38;5;124mdtype\u001b[39m\u001b[38;5;124m\"\u001b[39m) \u001b[38;5;28;01melse\u001b[39;00m x \u001b[38;5;28;01mfor\u001b[39;00m x \u001b[38;5;129;01min\u001b[39;00m arrays]\n\u001b[1;32m--> 503\u001b[0m \u001b[38;5;28;01mreturn\u001b[39;00m \u001b[43marrays_to_mgr\u001b[49m\u001b[43m(\u001b[49m\u001b[43marrays\u001b[49m\u001b[43m,\u001b[49m\u001b[43m \u001b[49m\u001b[43mcolumns\u001b[49m\u001b[43m,\u001b[49m\u001b[43m \u001b[49m\u001b[43mindex\u001b[49m\u001b[43m,\u001b[49m\u001b[43m \u001b[49m\u001b[43mdtype\u001b[49m\u001b[38;5;241;43m=\u001b[39;49m\u001b[43mdtype\u001b[49m\u001b[43m,\u001b[49m\u001b[43m \u001b[49m\u001b[43mtyp\u001b[49m\u001b[38;5;241;43m=\u001b[39;49m\u001b[43mtyp\u001b[49m\u001b[43m,\u001b[49m\u001b[43m \u001b[49m\u001b[43mconsolidate\u001b[49m\u001b[38;5;241;43m=\u001b[39;49m\u001b[43mcopy\u001b[49m\u001b[43m)\u001b[49m\n",
      "File \u001b[1;32mc:\\Users\\Green Gen Tech\\Desktop\\Microsoft\\microsoft_venv\\Lib\\site-packages\\pandas\\core\\internals\\construction.py:152\u001b[0m, in \u001b[0;36marrays_to_mgr\u001b[1;34m(arrays, columns, index, dtype, verify_integrity, typ, consolidate)\u001b[0m\n\u001b[0;32m    149\u001b[0m axes \u001b[38;5;241m=\u001b[39m [columns, index]\n\u001b[0;32m    151\u001b[0m \u001b[38;5;28;01mif\u001b[39;00m typ \u001b[38;5;241m==\u001b[39m \u001b[38;5;124m\"\u001b[39m\u001b[38;5;124mblock\u001b[39m\u001b[38;5;124m\"\u001b[39m:\n\u001b[1;32m--> 152\u001b[0m     \u001b[38;5;28;01mreturn\u001b[39;00m \u001b[43mcreate_block_manager_from_column_arrays\u001b[49m\u001b[43m(\u001b[49m\n\u001b[0;32m    153\u001b[0m \u001b[43m        \u001b[49m\u001b[43marrays\u001b[49m\u001b[43m,\u001b[49m\u001b[43m \u001b[49m\u001b[43maxes\u001b[49m\u001b[43m,\u001b[49m\u001b[43m \u001b[49m\u001b[43mconsolidate\u001b[49m\u001b[38;5;241;43m=\u001b[39;49m\u001b[43mconsolidate\u001b[49m\u001b[43m,\u001b[49m\u001b[43m \u001b[49m\u001b[43mrefs\u001b[49m\u001b[38;5;241;43m=\u001b[39;49m\u001b[43mrefs\u001b[49m\n\u001b[0;32m    154\u001b[0m \u001b[43m    \u001b[49m\u001b[43m)\u001b[49m\n\u001b[0;32m    155\u001b[0m \u001b[38;5;28;01melif\u001b[39;00m typ \u001b[38;5;241m==\u001b[39m \u001b[38;5;124m\"\u001b[39m\u001b[38;5;124marray\u001b[39m\u001b[38;5;124m\"\u001b[39m:\n\u001b[0;32m    156\u001b[0m     \u001b[38;5;28;01mreturn\u001b[39;00m ArrayManager(arrays, [index, columns])\n",
      "File \u001b[1;32mc:\\Users\\Green Gen Tech\\Desktop\\Microsoft\\microsoft_venv\\Lib\\site-packages\\pandas\\core\\internals\\managers.py:2139\u001b[0m, in \u001b[0;36mcreate_block_manager_from_column_arrays\u001b[1;34m(arrays, axes, consolidate, refs)\u001b[0m\n\u001b[0;32m   2121\u001b[0m \u001b[38;5;28;01mdef\u001b[39;00m \u001b[38;5;21mcreate_block_manager_from_column_arrays\u001b[39m(\n\u001b[0;32m   2122\u001b[0m     arrays: \u001b[38;5;28mlist\u001b[39m[ArrayLike],\n\u001b[0;32m   2123\u001b[0m     axes: \u001b[38;5;28mlist\u001b[39m[Index],\n\u001b[1;32m   (...)\u001b[0m\n\u001b[0;32m   2135\u001b[0m     \u001b[38;5;66;03m# These last three are sufficient to allow us to safely pass\u001b[39;00m\n\u001b[0;32m   2136\u001b[0m     \u001b[38;5;66;03m#  verify_integrity=False below.\u001b[39;00m\n\u001b[0;32m   2138\u001b[0m     \u001b[38;5;28;01mtry\u001b[39;00m:\n\u001b[1;32m-> 2139\u001b[0m         blocks \u001b[38;5;241m=\u001b[39m \u001b[43m_form_blocks\u001b[49m\u001b[43m(\u001b[49m\u001b[43marrays\u001b[49m\u001b[43m,\u001b[49m\u001b[43m \u001b[49m\u001b[43mconsolidate\u001b[49m\u001b[43m,\u001b[49m\u001b[43m \u001b[49m\u001b[43mrefs\u001b[49m\u001b[43m)\u001b[49m\n\u001b[0;32m   2140\u001b[0m         mgr \u001b[38;5;241m=\u001b[39m BlockManager(blocks, axes, verify_integrity\u001b[38;5;241m=\u001b[39m\u001b[38;5;28;01mFalse\u001b[39;00m)\n\u001b[0;32m   2141\u001b[0m     \u001b[38;5;28;01mexcept\u001b[39;00m \u001b[38;5;167;01mValueError\u001b[39;00m \u001b[38;5;28;01mas\u001b[39;00m e:\n",
      "File \u001b[1;32mc:\\Users\\Green Gen Tech\\Desktop\\Microsoft\\microsoft_venv\\Lib\\site-packages\\pandas\\core\\internals\\managers.py:2212\u001b[0m, in \u001b[0;36m_form_blocks\u001b[1;34m(arrays, consolidate, refs)\u001b[0m\n\u001b[0;32m   2209\u001b[0m \u001b[38;5;28;01mif\u001b[39;00m \u001b[38;5;28missubclass\u001b[39m(dtype\u001b[38;5;241m.\u001b[39mtype, (\u001b[38;5;28mstr\u001b[39m, \u001b[38;5;28mbytes\u001b[39m)):\n\u001b[0;32m   2210\u001b[0m     dtype \u001b[38;5;241m=\u001b[39m np\u001b[38;5;241m.\u001b[39mdtype(\u001b[38;5;28mobject\u001b[39m)\n\u001b[1;32m-> 2212\u001b[0m values, placement \u001b[38;5;241m=\u001b[39m \u001b[43m_stack_arrays\u001b[49m\u001b[43m(\u001b[49m\u001b[38;5;28;43mlist\u001b[39;49m\u001b[43m(\u001b[49m\u001b[43mtup_block\u001b[49m\u001b[43m)\u001b[49m\u001b[43m,\u001b[49m\u001b[43m \u001b[49m\u001b[43mdtype\u001b[49m\u001b[43m)\u001b[49m\n\u001b[0;32m   2213\u001b[0m \u001b[38;5;28;01mif\u001b[39;00m is_dtlike:\n\u001b[0;32m   2214\u001b[0m     values \u001b[38;5;241m=\u001b[39m ensure_wrapped_if_datetimelike(values)\n",
      "File \u001b[1;32mc:\\Users\\Green Gen Tech\\Desktop\\Microsoft\\microsoft_venv\\Lib\\site-packages\\pandas\\core\\internals\\managers.py:2252\u001b[0m, in \u001b[0;36m_stack_arrays\u001b[1;34m(tuples, dtype)\u001b[0m\n\u001b[0;32m   2249\u001b[0m first \u001b[38;5;241m=\u001b[39m arrays[\u001b[38;5;241m0\u001b[39m]\n\u001b[0;32m   2250\u001b[0m shape \u001b[38;5;241m=\u001b[39m (\u001b[38;5;28mlen\u001b[39m(arrays),) \u001b[38;5;241m+\u001b[39m first\u001b[38;5;241m.\u001b[39mshape\n\u001b[1;32m-> 2252\u001b[0m stacked \u001b[38;5;241m=\u001b[39m \u001b[43mnp\u001b[49m\u001b[38;5;241;43m.\u001b[39;49m\u001b[43mempty\u001b[49m\u001b[43m(\u001b[49m\u001b[43mshape\u001b[49m\u001b[43m,\u001b[49m\u001b[43m \u001b[49m\u001b[43mdtype\u001b[49m\u001b[38;5;241;43m=\u001b[39;49m\u001b[43mdtype\u001b[49m\u001b[43m)\u001b[49m\n\u001b[0;32m   2253\u001b[0m \u001b[38;5;28;01mfor\u001b[39;00m i, arr \u001b[38;5;129;01min\u001b[39;00m \u001b[38;5;28menumerate\u001b[39m(arrays):\n\u001b[0;32m   2254\u001b[0m     stacked[i] \u001b[38;5;241m=\u001b[39m arr\n",
      "\u001b[1;31mMemoryError\u001b[0m: Unable to allocate 218. MiB for an array with shape (3, 9516837) and data type object"
     ]
    }
   ],
   "source": [
    "df = pd.read_csv(\"C:\\\\Users\\\\Green Gen Tech\\\\Downloads\\\\GUIDE_Train.csv\\\\GUIDE_Train.csv\")\n",
    "df.shape"
   ]
  },
  {
   "cell_type": "code",
   "execution_count": 7,
   "metadata": {},
   "outputs": [
    {
     "name": "stderr",
     "output_type": "stream",
     "text": [
      "C:\\Users\\Green Gen Tech\\AppData\\Local\\Temp\\ipykernel_3488\\3523771357.py:4: DtypeWarning: Columns (35) have mixed types. Specify dtype option on import or set low_memory=False.\n",
      "  for chunk in pd.read_csv(\"C:\\\\Users\\\\Green Gen Tech\\\\Downloads\\\\GUIDE_Train.csv\\\\GUIDE_Train.csv\", chunksize=chunksize):\n",
      "C:\\Users\\Green Gen Tech\\AppData\\Local\\Temp\\ipykernel_3488\\3523771357.py:4: DtypeWarning: Columns (35) have mixed types. Specify dtype option on import or set low_memory=False.\n",
      "  for chunk in pd.read_csv(\"C:\\\\Users\\\\Green Gen Tech\\\\Downloads\\\\GUIDE_Train.csv\\\\GUIDE_Train.csv\", chunksize=chunksize):\n",
      "C:\\Users\\Green Gen Tech\\AppData\\Local\\Temp\\ipykernel_3488\\3523771357.py:4: DtypeWarning: Columns (35) have mixed types. Specify dtype option on import or set low_memory=False.\n",
      "  for chunk in pd.read_csv(\"C:\\\\Users\\\\Green Gen Tech\\\\Downloads\\\\GUIDE_Train.csv\\\\GUIDE_Train.csv\", chunksize=chunksize):\n",
      "C:\\Users\\Green Gen Tech\\AppData\\Local\\Temp\\ipykernel_3488\\3523771357.py:4: DtypeWarning: Columns (35) have mixed types. Specify dtype option on import or set low_memory=False.\n",
      "  for chunk in pd.read_csv(\"C:\\\\Users\\\\Green Gen Tech\\\\Downloads\\\\GUIDE_Train.csv\\\\GUIDE_Train.csv\", chunksize=chunksize):\n",
      "C:\\Users\\Green Gen Tech\\AppData\\Local\\Temp\\ipykernel_3488\\3523771357.py:4: DtypeWarning: Columns (35) have mixed types. Specify dtype option on import or set low_memory=False.\n",
      "  for chunk in pd.read_csv(\"C:\\\\Users\\\\Green Gen Tech\\\\Downloads\\\\GUIDE_Train.csv\\\\GUIDE_Train.csv\", chunksize=chunksize):\n",
      "C:\\Users\\Green Gen Tech\\AppData\\Local\\Temp\\ipykernel_3488\\3523771357.py:4: DtypeWarning: Columns (35) have mixed types. Specify dtype option on import or set low_memory=False.\n",
      "  for chunk in pd.read_csv(\"C:\\\\Users\\\\Green Gen Tech\\\\Downloads\\\\GUIDE_Train.csv\\\\GUIDE_Train.csv\", chunksize=chunksize):\n",
      "C:\\Users\\Green Gen Tech\\AppData\\Local\\Temp\\ipykernel_3488\\3523771357.py:4: DtypeWarning: Columns (35) have mixed types. Specify dtype option on import or set low_memory=False.\n",
      "  for chunk in pd.read_csv(\"C:\\\\Users\\\\Green Gen Tech\\\\Downloads\\\\GUIDE_Train.csv\\\\GUIDE_Train.csv\", chunksize=chunksize):\n",
      "C:\\Users\\Green Gen Tech\\AppData\\Local\\Temp\\ipykernel_3488\\3523771357.py:4: DtypeWarning: Columns (35) have mixed types. Specify dtype option on import or set low_memory=False.\n",
      "  for chunk in pd.read_csv(\"C:\\\\Users\\\\Green Gen Tech\\\\Downloads\\\\GUIDE_Train.csv\\\\GUIDE_Train.csv\", chunksize=chunksize):\n",
      "C:\\Users\\Green Gen Tech\\AppData\\Local\\Temp\\ipykernel_3488\\3523771357.py:4: DtypeWarning: Columns (35) have mixed types. Specify dtype option on import or set low_memory=False.\n",
      "  for chunk in pd.read_csv(\"C:\\\\Users\\\\Green Gen Tech\\\\Downloads\\\\GUIDE_Train.csv\\\\GUIDE_Train.csv\", chunksize=chunksize):\n",
      "C:\\Users\\Green Gen Tech\\AppData\\Local\\Temp\\ipykernel_3488\\3523771357.py:4: DtypeWarning: Columns (35) have mixed types. Specify dtype option on import or set low_memory=False.\n",
      "  for chunk in pd.read_csv(\"C:\\\\Users\\\\Green Gen Tech\\\\Downloads\\\\GUIDE_Train.csv\\\\GUIDE_Train.csv\", chunksize=chunksize):\n",
      "C:\\Users\\Green Gen Tech\\AppData\\Local\\Temp\\ipykernel_3488\\3523771357.py:4: DtypeWarning: Columns (35) have mixed types. Specify dtype option on import or set low_memory=False.\n",
      "  for chunk in pd.read_csv(\"C:\\\\Users\\\\Green Gen Tech\\\\Downloads\\\\GUIDE_Train.csv\\\\GUIDE_Train.csv\", chunksize=chunksize):\n",
      "C:\\Users\\Green Gen Tech\\AppData\\Local\\Temp\\ipykernel_3488\\3523771357.py:4: DtypeWarning: Columns (35) have mixed types. Specify dtype option on import or set low_memory=False.\n",
      "  for chunk in pd.read_csv(\"C:\\\\Users\\\\Green Gen Tech\\\\Downloads\\\\GUIDE_Train.csv\\\\GUIDE_Train.csv\", chunksize=chunksize):\n",
      "C:\\Users\\Green Gen Tech\\AppData\\Local\\Temp\\ipykernel_3488\\3523771357.py:4: DtypeWarning: Columns (35) have mixed types. Specify dtype option on import or set low_memory=False.\n",
      "  for chunk in pd.read_csv(\"C:\\\\Users\\\\Green Gen Tech\\\\Downloads\\\\GUIDE_Train.csv\\\\GUIDE_Train.csv\", chunksize=chunksize):\n",
      "C:\\Users\\Green Gen Tech\\AppData\\Local\\Temp\\ipykernel_3488\\3523771357.py:4: DtypeWarning: Columns (35) have mixed types. Specify dtype option on import or set low_memory=False.\n",
      "  for chunk in pd.read_csv(\"C:\\\\Users\\\\Green Gen Tech\\\\Downloads\\\\GUIDE_Train.csv\\\\GUIDE_Train.csv\", chunksize=chunksize):\n",
      "C:\\Users\\Green Gen Tech\\AppData\\Local\\Temp\\ipykernel_3488\\3523771357.py:4: DtypeWarning: Columns (35) have mixed types. Specify dtype option on import or set low_memory=False.\n",
      "  for chunk in pd.read_csv(\"C:\\\\Users\\\\Green Gen Tech\\\\Downloads\\\\GUIDE_Train.csv\\\\GUIDE_Train.csv\", chunksize=chunksize):\n",
      "C:\\Users\\Green Gen Tech\\AppData\\Local\\Temp\\ipykernel_3488\\3523771357.py:4: DtypeWarning: Columns (35) have mixed types. Specify dtype option on import or set low_memory=False.\n",
      "  for chunk in pd.read_csv(\"C:\\\\Users\\\\Green Gen Tech\\\\Downloads\\\\GUIDE_Train.csv\\\\GUIDE_Train.csv\", chunksize=chunksize):\n",
      "C:\\Users\\Green Gen Tech\\AppData\\Local\\Temp\\ipykernel_3488\\3523771357.py:4: DtypeWarning: Columns (35) have mixed types. Specify dtype option on import or set low_memory=False.\n",
      "  for chunk in pd.read_csv(\"C:\\\\Users\\\\Green Gen Tech\\\\Downloads\\\\GUIDE_Train.csv\\\\GUIDE_Train.csv\", chunksize=chunksize):\n",
      "C:\\Users\\Green Gen Tech\\AppData\\Local\\Temp\\ipykernel_3488\\3523771357.py:4: DtypeWarning: Columns (35) have mixed types. Specify dtype option on import or set low_memory=False.\n",
      "  for chunk in pd.read_csv(\"C:\\\\Users\\\\Green Gen Tech\\\\Downloads\\\\GUIDE_Train.csv\\\\GUIDE_Train.csv\", chunksize=chunksize):\n",
      "C:\\Users\\Green Gen Tech\\AppData\\Local\\Temp\\ipykernel_3488\\3523771357.py:4: DtypeWarning: Columns (35) have mixed types. Specify dtype option on import or set low_memory=False.\n",
      "  for chunk in pd.read_csv(\"C:\\\\Users\\\\Green Gen Tech\\\\Downloads\\\\GUIDE_Train.csv\\\\GUIDE_Train.csv\", chunksize=chunksize):\n",
      "C:\\Users\\Green Gen Tech\\AppData\\Local\\Temp\\ipykernel_3488\\3523771357.py:4: DtypeWarning: Columns (35) have mixed types. Specify dtype option on import or set low_memory=False.\n",
      "  for chunk in pd.read_csv(\"C:\\\\Users\\\\Green Gen Tech\\\\Downloads\\\\GUIDE_Train.csv\\\\GUIDE_Train.csv\", chunksize=chunksize):\n"
     ]
    }
   ],
   "source": [
    "chunksize = 100000\n",
    "chunks = []\n",
    "\n",
    "for chunk in pd.read_csv(\"C:\\\\Users\\\\Green Gen Tech\\\\Downloads\\\\GUIDE_Train.csv\\\\GUIDE_Train.csv\", chunksize=chunksize):\n",
    "    # Process each chunk (e.g., append to list, filter, transform, etc.)\n",
    "    chunks.append(chunk)\n",
    "\n",
    "# If you want to concatenate all chunks into a single DataFrame after processing\n",
    "df = pd.concat(chunks, ignore_index=True)"
   ]
  },
  {
   "cell_type": "code",
   "execution_count": 8,
   "metadata": {},
   "outputs": [
    {
     "data": {
      "text/plain": [
       "(9516837, 45)"
      ]
     },
     "execution_count": 8,
     "metadata": {},
     "output_type": "execute_result"
    }
   ],
   "source": [
    "df.shape"
   ]
  },
  {
   "cell_type": "code",
   "execution_count": null,
   "metadata": {},
   "outputs": [],
   "source": [
    "df.duplicated()"
   ]
  }
 ],
 "metadata": {
  "kernelspec": {
   "display_name": "microsoft_venv",
   "language": "python",
   "name": "python3"
  },
  "language_info": {
   "codemirror_mode": {
    "name": "ipython",
    "version": 3
   },
   "file_extension": ".py",
   "mimetype": "text/x-python",
   "name": "python",
   "nbconvert_exporter": "python",
   "pygments_lexer": "ipython3",
   "version": "3.12.3"
  }
 },
 "nbformat": 4,
 "nbformat_minor": 2
}
